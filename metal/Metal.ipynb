{
 "cells": [
  {
   "cell_type": "markdown",
   "metadata": {},
   "source": [
    "# Описание проекта\n",
    "\n",
    "Компания разрабатывает решения для эффективной работы промышленных предприятий.\n",
    "\n",
    "Модель должна предсказать коэффициент восстановления золота из золотосодержащей руды. В вашем распоряжении данные с параметрами добычи и очистки. \n",
    "\n",
    "Модель поможет оптимизировать производство, чтобы не запускать предприятие с убыточными характеристиками.\n"
   ]
  },
  {
   "cell_type": "markdown",
   "metadata": {},
   "source": [
    "### Описание данных\n",
    "Технологический процесс\n",
    " - Rougher feed — исходное сырье\n",
    " - Rougher additions (или reagent additions) — флотационные реагенты: Xanthate, Sulphate, Depressant\n",
    "  - Xanthate **— ксантогенат (промотер, или активатор флотации);\n",
    "  - Sulphate — сульфат (на данном производстве сульфид натрия);\n",
    "  - Depressant — депрессант (силикат натрия).\n",
    " - Rougher process (англ. «грубый процесс») — флотация\n",
    " - Rougher tails — отвальные хвосты\n",
    " - Float banks — флотационная установка\n",
    " - Cleaner process — очистка\n",
    " - Rougher Au — черновой концентрат золота\n",
    " - Final Au — финальный концентрат золота\n",
    " \n",
    "### Параметры этапов\n",
    " - air amount — объём воздуха\n",
    " - fluid levels — уровень жидкости\n",
    " - feed size — размер гранул сырья\n",
    " - feed rate — скорость подачи"
   ]
  },
  {
   "cell_type": "markdown",
   "metadata": {},
   "source": [
    "#### Наименование признаков должно быть такое:<br>\n",
    "   [этап].[тип_параметра].[название_параметра]<br>\n",
    "Пример:  rougher.input.feed_ag <br>\n",
    "#### Возможные значения для блока [этап]:\n",
    " - rougher — флотация\n",
    " - primary_cleaner — первичная очистка\n",
    " - secondary_cleaner — вторичная очистка\n",
    " - final — финальные характеристики\n",
    " \n",
    "#### Возможные значения для блока [тип_параметра]:\n",
    " - input — параметры сырья\n",
    " - output — параметры продукта\n",
    " - state — параметры, характеризующие текущее состояние этапа\n",
    " - calculation — расчётные характеристики"
   ]
  },
  {
   "cell_type": "code",
   "execution_count": 1,
   "metadata": {},
   "outputs": [],
   "source": [
    "import pandas as pd\n",
    "import matplotlib.pyplot  as plt\n",
    "import numpy as np\n",
    "import seaborn as sns\n",
    "import warnings\n",
    "import time\n",
    "\n",
    "\n",
    "from sklearn.metrics import make_scorer, mean_absolute_error, accuracy_score, r2_score\n",
    "from sklearn.model_selection import GridSearchCV\n",
    "\n",
    "from sklearn.linear_model import LinearRegression\n",
    "from sklearn.ensemble import RandomForestRegressor\n",
    "from lightgbm import LGBMRegressor\n",
    "from catboost import CatBoostRegressor"
   ]
  },
  {
   "cell_type": "code",
   "execution_count": 2,
   "metadata": {},
   "outputs": [],
   "source": [
    "warnings.filterwarnings(\"ignore\")"
   ]
  },
  {
   "cell_type": "markdown",
   "metadata": {},
   "source": [
    "# 1. Подготовка данных."
   ]
  },
  {
   "cell_type": "code",
   "execution_count": 3,
   "metadata": {},
   "outputs": [],
   "source": [
    "data_train = pd.read_csv('gold_recovery_train.csv')\n"
   ]
  },
  {
   "cell_type": "code",
   "execution_count": 4,
   "metadata": {},
   "outputs": [],
   "source": [
    "def recovery(row):\n",
    "    C = row['rougher.output.concentrate_au']\n",
    "    F = row['rougher.input.feed_au']\n",
    "    T = row['rougher.output.tail_au']\n",
    "    try:\n",
    "        return 100 * ((C*(F-T)) / (F*(C-T))) \n",
    "    except:\n",
    "        pass"
   ]
  },
  {
   "cell_type": "markdown",
   "metadata": {},
   "source": [
    "$$\n",
    "    recovery= \\frac{C*(F-T)}{F*(C-T)} * 100\\% \n",
    "$$\n",
    "Где:\n",
    " - C — доля золота в концентрате после флотации/очистки;\n",
    " - F — доля золота в сырье/концентрате до флотации/очистки;\n",
    " - T — доля золота в отвальных хвостах после флотации/очистки."
   ]
  },
  {
   "cell_type": "code",
   "execution_count": 5,
   "metadata": {},
   "outputs": [
    {
     "name": "stdout",
     "output_type": "stream",
     "text": [
      "MAE между расчетами и значение признака: 9.444891926100695e-15\n"
     ]
    }
   ],
   "source": [
    "\n",
    "COPY_train = data_train.copy()\n",
    "\n",
    "COPY_train['recovery'] = COPY_train.apply(recovery, axis=1)\n",
    "\n",
    "COPY_train.dropna(subset=['recovery', 'rougher.output.recovery'], inplace=True)\n",
    "\n",
    "rougher_out_rec = COPY_train['rougher.output.recovery']\n",
    "recovery = COPY_train['recovery']\n",
    "\n",
    "MAE = mean_absolute_error(rougher_out_rec, recovery)\n",
    "print('MAE между расчетами и значение признака:', MAE)\n"
   ]
  },
  {
   "cell_type": "markdown",
   "metadata": {},
   "source": [
    "Значение близко к нулю, значит значение расчитано правильно."
   ]
  },
  {
   "cell_type": "code",
   "execution_count": 6,
   "metadata": {},
   "outputs": [],
   "source": [
    "data_test = pd.read_csv('gold_recovery_test.csv')\n"
   ]
  },
  {
   "cell_type": "code",
   "execution_count": 7,
   "metadata": {},
   "outputs": [
    {
     "name": "stdout",
     "output_type": "stream",
     "text": [
      "Отсутвующие колонки в тестновой выборке:\n"
     ]
    },
    {
     "data": {
      "text/plain": [
       "['final.output.concentrate_ag',\n",
       " 'final.output.concentrate_pb',\n",
       " 'final.output.concentrate_sol',\n",
       " 'final.output.concentrate_au',\n",
       " 'final.output.recovery',\n",
       " 'final.output.tail_ag',\n",
       " 'final.output.tail_pb',\n",
       " 'final.output.tail_sol',\n",
       " 'final.output.tail_au',\n",
       " 'primary_cleaner.output.concentrate_ag',\n",
       " 'primary_cleaner.output.concentrate_pb',\n",
       " 'primary_cleaner.output.concentrate_sol',\n",
       " 'primary_cleaner.output.concentrate_au',\n",
       " 'primary_cleaner.output.tail_ag',\n",
       " 'primary_cleaner.output.tail_pb',\n",
       " 'primary_cleaner.output.tail_sol',\n",
       " 'primary_cleaner.output.tail_au',\n",
       " 'rougher.calculation.sulfate_to_au_concentrate',\n",
       " 'rougher.calculation.floatbank10_sulfate_to_au_feed',\n",
       " 'rougher.calculation.floatbank11_sulfate_to_au_feed',\n",
       " 'rougher.calculation.au_pb_ratio',\n",
       " 'rougher.output.concentrate_ag',\n",
       " 'rougher.output.concentrate_pb',\n",
       " 'rougher.output.concentrate_sol',\n",
       " 'rougher.output.concentrate_au',\n",
       " 'rougher.output.recovery',\n",
       " 'rougher.output.tail_ag',\n",
       " 'rougher.output.tail_pb',\n",
       " 'rougher.output.tail_sol',\n",
       " 'rougher.output.tail_au',\n",
       " 'secondary_cleaner.output.tail_ag',\n",
       " 'secondary_cleaner.output.tail_pb',\n",
       " 'secondary_cleaner.output.tail_sol',\n",
       " 'secondary_cleaner.output.tail_au']"
      ]
     },
     "execution_count": 7,
     "metadata": {},
     "output_type": "execute_result"
    }
   ],
   "source": [
    "columns_train = data_train.columns\n",
    "columns_test = data_test.columns\n",
    "\n",
    "miss_columns = []\n",
    "for column in columns_train:\n",
    "    if column not in columns_test:\n",
    "        miss_columns.append(column)\n",
    "print('Отсутвующие колонки в тестновой выборке:')\n",
    "miss_columns"
   ]
  },
  {
   "cell_type": "markdown",
   "metadata": {},
   "source": [
    "Отсутвующие параметры относятся к финальным и выходным данным.(final, output). потому что замеряются и/или рассчитываются значительно позже."
   ]
  },
  {
   "cell_type": "code",
   "execution_count": 8,
   "metadata": {},
   "outputs": [],
   "source": [
    "data_full = pd.read_csv('gold_recovery_full.csv')\n",
    "data_full = data_full.dropna().reset_index(drop=True)"
   ]
  },
  {
   "cell_type": "code",
   "execution_count": 9,
   "metadata": {},
   "outputs": [],
   "source": [
    "data_train = data_train.dropna().reset_index(drop=True)\n",
    "data_test = data_test.dropna().reset_index(drop=True)\n"
   ]
  },
  {
   "cell_type": "markdown",
   "metadata": {},
   "source": [
    "Импортируем полные данные."
   ]
  },
  {
   "cell_type": "markdown",
   "metadata": {},
   "source": [
    "# 2. Анализ данных"
   ]
  },
  {
   "cell_type": "code",
   "execution_count": 10,
   "metadata": {},
   "outputs": [],
   "source": [
    "def borders(column):\n",
    "\n",
    "                                   \n",
    "    # для графиков                               \n",
    "    data = data_full[column]                               \n",
    "    first_border = np.percentile(data, q=15)\n",
    "    \n",
    "    data_to_plot = data[(first_border < data)]\n",
    "    data_full[column] = data_to_plot\n",
    "    \n",
    "    return data_to_plot\n",
    "    "
   ]
  },
  {
   "cell_type": "markdown",
   "metadata": {},
   "source": [
    "Функция для нохождения границ выбросов."
   ]
  },
  {
   "cell_type": "code",
   "execution_count": 11,
   "metadata": {},
   "outputs": [],
   "source": [
    "metals = ['concentrate_au', 'concentrate_ag', 'concentrate_pb']\n",
    "metals_tail = ['tail_au', 'tail_ag', 'tail_pb']\n",
    "\n",
    "steps = ['rougher', 'primary_cleaner', 'secondary_cleaner']"
   ]
  },
  {
   "cell_type": "code",
   "execution_count": 12,
   "metadata": {},
   "outputs": [
    {
     "data": {
      "image/png": "[encoded data removed]",
      "text/plain": [
       "<Figure size 432x288 with 1 Axes>"
      ]
     },
     "metadata": {
      "needs_background": "light"
     },
     "output_type": "display_data"
    },
    {
     "data": {
      "image/png": "[encoded data removed]",
      "text/plain": [
       "<Figure size 432x288 with 1 Axes>"
      ]
     },
     "metadata": {
      "needs_background": "light"
     },
     "output_type": "display_data"
    },
    {
     "data": {
      "image/png": "[encoded data removed]",
      "text/plain": [
       "<Figure size 432x288 with 1 Axes>"
      ]
     },
     "metadata": {
      "needs_background": "light"
     },
     "output_type": "display_data"
    }
   ],
   "source": [
    "for step in steps:\n",
    "    if step != 'secondary_cleaner':\n",
    "        plt.xlabel('Концентрация')\n",
    "        plt.grid()\n",
    "        plt.title(step)\n",
    "        \n",
    "        for metal in metals:\n",
    "            plt.legend(metals)\n",
    "            \n",
    "            column = f'{step}.output.{metal}' \n",
    "            data_to_plot = borders(column)\n",
    "\n",
    "            sns.distplot(data_to_plot, label = metal)\n",
    "        plt.show()\n",
    "        \n",
    "        \n",
    "    else:\n",
    "        plt.xlabel('Концентрация')\n",
    "        plt.grid()\n",
    "        plt.title(step)\n",
    "            \n",
    "        for metal in metals_tail:\n",
    "            plt.legend(metals_tail)\n",
    "            column = f'{step}.output.{metal}'\n",
    "            data_to_plot = borders(column)\n",
    "            \n",
    "            \n",
    "            sns.distplot(data_to_plot, label = metals)\n",
    "        plt.show()"
   ]
  },
  {
   "cell_type": "markdown",
   "metadata": {},
   "source": [
    "Концентрация золота растет с каждым этапом очистки"
   ]
  },
  {
   "cell_type": "markdown",
   "metadata": {},
   "source": [
    "## Размер гранул."
   ]
  },
  {
   "cell_type": "code",
   "execution_count": 13,
   "metadata": {},
   "outputs": [
    {
     "data": {
      "image/png": "[encoded data removed]",
      "text/plain": [
       "<Figure size 432x288 with 1 Axes>"
      ]
     },
     "metadata": {
      "needs_background": "light"
     },
     "output_type": "display_data"
    }
   ],
   "source": [
    "plt.title('feed size')\n",
    "\n",
    "sns.distplot(data_train['rougher.input.feed_size'])\n",
    "sns.distplot(data_test['rougher.input.feed_size'])\n",
    "plt.show()"
   ]
  },
  {
   "cell_type": "markdown",
   "metadata": {},
   "source": [
    "В тестовых и обучающих даныых распределенеие размер гранул кардинально не различаются. "
   ]
  },
  {
   "cell_type": "markdown",
   "metadata": {},
   "source": [
    "### Суммарная концентрация всех веществ."
   ]
  },
  {
   "cell_type": "code",
   "execution_count": 14,
   "metadata": {},
   "outputs": [
    {
     "data": {
      "image/png": "[encoded data removed]",
      "text/plain": [
       "<Figure size 432x288 with 1 Axes>"
      ]
     },
     "metadata": {
      "needs_background": "light"
     },
     "output_type": "display_data"
    },
    {
     "data": {
      "image/png": "[encoded data removed]",
      "text/plain": [
       "<Figure size 432x288 with 1 Axes>"
      ]
     },
     "metadata": {
      "needs_background": "light"
     },
     "output_type": "display_data"
    }
   ],
   "source": [
    "\n",
    "for step in steps[:-1]:\n",
    "    plt.title(step)\n",
    "    data_to_plot = data_full[f'{step}.output.concentrate_au'] + data_full[f'{step}.output.concentrate_ag']+ data_full[f'{step}.output.concentrate_pb']\n",
    "    plt.hist(data_to_plot, bins=30)\n",
    "    plt.show()\n"
   ]
  },
  {
   "cell_type": "markdown",
   "metadata": {},
   "source": [
    "Суммарное распределения выходной концентрации - нормальное."
   ]
  },
  {
   "cell_type": "code",
   "execution_count": 15,
   "metadata": {},
   "outputs": [
    {
     "data": {
      "image/png": "[encoded data removed]",
      "text/plain": [
       "<Figure size 432x288 with 1 Axes>"
      ]
     },
     "metadata": {
      "needs_background": "light"
     },
     "output_type": "display_data"
    }
   ],
   "source": [
    "plt.title('secondary_cleaner')\n",
    "data_to_plot = data_full[f'secondary_cleaner.output.tail_au'] + data_full[f'secondary_cleaner.output.tail_ag'] + data_full[f'secondary_cleaner.output.tail_pb']\n",
    "\n",
    "plt.hist(data_to_plot, bins=30)\n",
    "plt.show()"
   ]
  },
  {
   "cell_type": "code",
   "execution_count": 16,
   "metadata": {},
   "outputs": [],
   "source": [
    "data_full = data_full.dropna().reset_index(drop=True)"
   ]
  },
  {
   "cell_type": "code",
   "execution_count": 17,
   "metadata": {},
   "outputs": [],
   "source": [
    "data_train = data_train.fillna(method='ffill')\n",
    "data_test = data_test.fillna(method='ffill')"
   ]
  },
  {
   "cell_type": "markdown",
   "metadata": {},
   "source": [
    "# 3. Модель"
   ]
  },
  {
   "cell_type": "markdown",
   "metadata": {},
   "source": [
    "## sMape и finalsMAPE"
   ]
  },
  {
   "cell_type": "code",
   "execution_count": 18,
   "metadata": {},
   "outputs": [],
   "source": [
    "def sMAPE(target, predict):\n",
    "    len_target = target.shape[0]\n",
    "    return  ((abs(target-predict)/((abs(target)+abs(predict))/2)) * 100).mean()\n",
    "    \n",
    "def fin_sMAPE(smape_rougher, smape_final):\n",
    "    return 0.25*smape_rougher + 0.75*smape_final"
   ]
  },
  {
   "cell_type": "markdown",
   "metadata": {},
   "source": [
    "$$\n",
    "   sMAPE =  \\frac{1}{n} *\\sum_{i=1}^{N} \\frac{|y_i-\\hat{y_i}|}{(|y_i|+|\\hat{y_i}|) / 2} *100\\%\n",
    "$$\n",
    "\n",
    "$$\n",
    "    final\\  sMAPE =  25\\%* sMAPE(rougher) + 75\\%*sMAPE(final)\n",
    "$$ \n"
   ]
  },
  {
   "cell_type": "markdown",
   "metadata": {},
   "source": [
    "### Востановление таргета для теста"
   ]
  },
  {
   "cell_type": "code",
   "execution_count": 19,
   "metadata": {},
   "outputs": [],
   "source": [
    "targets_to_test = data_full[['date', 'rougher.output.recovery', 'final.output.recovery', ]]\n",
    "data_test = data_test.merge(targets_to_test, on='date')\n",
    "# добавил  таргет в тестовую выборку."
   ]
  },
  {
   "cell_type": "markdown",
   "metadata": {},
   "source": [
    "### Борьба с мультиколлинеарностью"
   ]
  },
  {
   "cell_type": "code",
   "execution_count": 20,
   "metadata": {},
   "outputs": [],
   "source": [
    "data_train = data_train[data_test.columns] # убрал отсуттвующие колонкки. \n",
    "\n",
    "data_corr = pd.DataFrame((data_train.corr() >= 0.9).sum())\n",
    "data_train = data_train.drop(columns=data_corr[data_corr[0]>1].index)\n",
    "data_test = data_test[data_train.columns] # убрал отсуттвующие колонкки. \n"
   ]
  },
  {
   "cell_type": "markdown",
   "metadata": {},
   "source": [
    "# Обучение моделей."
   ]
  },
  {
   "cell_type": "code",
   "execution_count": 21,
   "metadata": {},
   "outputs": [],
   "source": [
    "sMAPE_score = make_scorer(sMAPE, greater_is_better=False) # задаем метрику оценки для GridSearchCV\n",
    "\n",
    "def make_features(features, target):\n",
    "    features = features\n",
    "    target =  target\n",
    "\n",
    "    features_train, features_test, target_train, target_test = train_test_split(\n",
    "                                        features, target, test_size=0.25, random_state=666)\n",
    "    \n",
    "    \n",
    "    \n",
    "    return features_train, features_test, target_train, target_test\n",
    "\n",
    "\n",
    "def learn_model(models, features_train, features_test, target_train, target_test, title=''):\n",
    "    \n",
    "    def predict(model, train_predict, target_train, test_predict, target_test):\n",
    "        \n",
    "        metrics = {'MAE': mean_absolute_error,\n",
    "                   'sMAPE' : sMAPE,\n",
    "                  }\n",
    "        columns = ['train', 'test']\n",
    "        data = []\n",
    "        for metric in metrics.keys():\n",
    "            data.append([metrics[metric](target_train, train_predict) ,metrics[metric](target_test, test_predict)])\n",
    "\n",
    "\n",
    "        results = pd.DataFrame(data=data, index=metrics.keys(), columns=columns)\n",
    "        \n",
    "        print(results)\n",
    "        print()\n",
    "    \n",
    "    def fit_model():\n",
    "        \n",
    "\n",
    "        plot_data = {}\n",
    "        learned_model = {}\n",
    "        \n",
    "        for model in models.keys():\n",
    "            print(f'__________{model}__________')\n",
    "            model_learn = models[model][0]\n",
    "            params = models[model][1]\n",
    "            \n",
    "            start_time = time.time()\n",
    "            \n",
    "            grid = GridSearchCV(model_learn, cv=5, param_grid=params, n_jobs=-1, scoring=sMAPE_score)\n",
    "            grid.fit(features_train, target_train)\n",
    "            end_time = time.time()\n",
    "            fit_time = end_time - start_time\n",
    "            \n",
    "            plot_data[model] = fit_time # время обучения модели\n",
    "            learned_model[model] = [grid, grid.best_params_] # сохраняем модель\n",
    "            \n",
    "            \n",
    "            \n",
    "            train_predict = grid.predict(features_train)\n",
    "            test_predict = grid.predict(features_test)\n",
    "            \n",
    "            predicted = predict(model, train_predict, target_train, test_predict, target_test)\n",
    "            \n",
    "            \n",
    "        sns.barplot(x=list(plot_data.keys()), y=list(plot_data.values()), saturation=1)    \n",
    "        plt.xlabel('Модели')\n",
    "        plt.ylabel('Время')\n",
    "        plt.title(f'Время обучения {title}')\n",
    "        plt.show()\n",
    "        \n",
    "        return learned_model\n",
    "        \n",
    "        \n",
    "    result_model = fit_model()    \n",
    "    \n",
    "    \n",
    "        \n",
    "    return result_model\n",
    "            \n"
   ]
  },
  {
   "cell_type": "markdown",
   "metadata": {},
   "source": [
    "Функция learn_model обучает модели и показывает метрики и время обучения."
   ]
  },
  {
   "cell_type": "markdown",
   "metadata": {},
   "source": [
    "### Разбиение данныз для теста"
   ]
  },
  {
   "cell_type": "code",
   "execution_count": 22,
   "metadata": {},
   "outputs": [],
   "source": [
    "target_test_1, target_test_2 = data_test['rougher.output.recovery'], data_test['final.output.recovery']\n",
    "features_test = data_test.drop(['date', 'rougher.output.recovery', 'final.output.recovery'], axis=1)"
   ]
  },
  {
   "cell_type": "markdown",
   "metadata": {},
   "source": [
    "### Разбивка дынных для обучения."
   ]
  },
  {
   "cell_type": "code",
   "execution_count": 23,
   "metadata": {},
   "outputs": [],
   "source": [
    "target_train_1, target_train_2 = data_train['rougher.output.recovery'], data_train['final.output.recovery']\n",
    "features_train = data_train.drop(['date', 'rougher.output.recovery', 'final.output.recovery'], axis=1)"
   ]
  },
  {
   "cell_type": "markdown",
   "metadata": {},
   "source": [
    "## Обучение модели для признака rougher."
   ]
  },
  {
   "cell_type": "code",
   "execution_count": 24,
   "metadata": {},
   "outputs": [],
   "source": [
    "models = {'Linear' : [LinearRegression(n_jobs=-1), {}],\n",
    "          \n",
    "          'Forest' : [RandomForestRegressor(n_jobs=-1), {'max_depth':range(1, 10, 4),\n",
    "                                                         'min_samples_leaf':range(1, 7, 3),\n",
    "                                                         'min_samples_split':range (2, 10,4), \n",
    "                                                         'n_estimators':range(10, 110, 10)}],\n",
    "          'LightGBM' : [LGBMRegressor(n_jobs=-1), {'learning_rate':[0.001, 0.01, 0.1], \n",
    "                                                   'max_depth':range(1, 15, 1),\n",
    "                                                   'n_estimators':range(1, 101, 25)}],\n",
    "          \n",
    "          'CatBoost' : [CatBoostRegressor(silent=True, iterations=40), {'learning_rate':[0.001, 0.01, 0.1], \n",
    "                                                                          'depth':range(1, 15, 1)}]\n",
    "         }"
   ]
  },
  {
   "cell_type": "markdown",
   "metadata": {},
   "source": [
    "Обозначаем модели для обучения и их параметры."
   ]
  },
  {
   "cell_type": "code",
   "execution_count": 25,
   "metadata": {},
   "outputs": [
    {
     "name": "stdout",
     "output_type": "stream",
     "text": [
      "__________Linear__________\n",
      "          train      test\n",
      "MAE    5.737788  4.777481\n",
      "sMAPE  9.022603  5.629968\n",
      "\n",
      "__________Forest__________\n",
      "          train      test\n",
      "MAE    4.535581  5.244731\n",
      "sMAPE  8.319620  6.225207\n",
      "\n",
      "__________LightGBM__________\n",
      "          train      test\n",
      "MAE    5.865445  4.376453\n",
      "sMAPE  9.101820  5.131500\n",
      "\n",
      "__________CatBoost__________\n",
      "          train      test\n",
      "MAE    5.692942  4.787043\n",
      "sMAPE  8.946496  5.637356\n",
      "\n"
     ]
    },
    {
     "data": {
      "image/png": "[encoded data removed]",
      "text/plain": [
       "<Figure size 432x288 with 1 Axes>"
      ]
     },
     "metadata": {
      "needs_background": "light"
     },
     "output_type": "display_data"
    },
    {
     "name": "stdout",
     "output_type": "stream",
     "text": [
      "Wall time: 16min 51s\n"
     ]
    }
   ],
   "source": [
    "%%time\n",
    "models_rougher = learn_model(models, features_train, features_test, target_train_1, target_test_1)"
   ]
  },
  {
   "cell_type": "code",
   "execution_count": 26,
   "metadata": {},
   "outputs": [
    {
     "data": {
      "text/plain": [
       "5.13149961823596"
      ]
     },
     "execution_count": 26,
     "metadata": {},
     "output_type": "execute_result"
    }
   ],
   "source": [
    "best_predict_rougher = models_rougher['LightGBM'][0].predict(features_test)\n",
    "best_sMAPE_rougher = sMAPE(target_test_1, best_predict_rougher)\n",
    "best_sMAPE_rougher"
   ]
  },
  {
   "cell_type": "markdown",
   "metadata": {},
   "source": [
    "## Обучение модели для признака final."
   ]
  },
  {
   "cell_type": "code",
   "execution_count": 27,
   "metadata": {},
   "outputs": [],
   "source": [
    "models = {'Linear' : [LinearRegression(n_jobs=-1), {}],\n",
    "          \n",
    "          'Forest' : [RandomForestRegressor(n_jobs=-1), {'max_depth':range(1, 10, 4),\n",
    "                                                         'min_samples_leaf':range(1, 7, 3),\n",
    "                                                         'min_samples_split':range (2, 10,4), \n",
    "                                                         'n_estimators':range(10, 110, 10)}],\n",
    "          'LightGBM' : [LGBMRegressor(n_jobs=-1), {'learning_rate':[0.001, 0.01, 0.1], \n",
    "                                                   'max_depth':range(1, 15, 1),\n",
    "                                                   'n_estimators':range(1, 101, 25)}],\n",
    "          \n",
    "          'CatBoost' : [CatBoostRegressor(silent=True, iterations=40), {'learning_rate':[0.001, 0.01, 0.1], \n",
    "                                                                          'depth':range(1, 15, 1)}]\n",
    "         }"
   ]
  },
  {
   "cell_type": "code",
   "execution_count": 28,
   "metadata": {},
   "outputs": [
    {
     "name": "stdout",
     "output_type": "stream",
     "text": [
      "__________Linear__________\n",
      "          train      test\n",
      "MAE    4.832542  4.785919\n",
      "sMAPE  7.727462  7.281035\n",
      "\n",
      "__________Forest__________\n",
      "          train      test\n",
      "MAE    5.310134  5.089298\n",
      "sMAPE  8.444057  7.761892\n",
      "\n",
      "__________LightGBM__________\n",
      "          train      test\n",
      "MAE    4.956497  4.428854\n",
      "sMAPE  7.905166  6.803051\n",
      "\n",
      "__________CatBoost__________\n",
      "          train      test\n",
      "MAE    4.846436  4.407565\n",
      "sMAPE  7.745474  6.771506\n",
      "\n"
     ]
    },
    {
     "data": {
      "image/png": "[encoded data removed]",
      "text/plain": [
       "<Figure size 432x288 with 1 Axes>"
      ]
     },
     "metadata": {
      "needs_background": "light"
     },
     "output_type": "display_data"
    },
    {
     "name": "stdout",
     "output_type": "stream",
     "text": [
      "Wall time: 16min 41s\n"
     ]
    }
   ],
   "source": [
    "%%time\n",
    "models_final = learn_model(models, features_train, features_test, target_train_2, target_test_2)"
   ]
  },
  {
   "cell_type": "code",
   "execution_count": 31,
   "metadata": {},
   "outputs": [
    {
     "data": {
      "text/plain": [
       "6.80305118393658"
      ]
     },
     "execution_count": 31,
     "metadata": {},
     "output_type": "execute_result"
    }
   ],
   "source": [
    "best_predict_final = models_final['LightGBM'][0].predict(features_test)\n",
    "best_sMAPE_final = sMAPE(target_test_2, best_predict_final)\n",
    "best_sMAPE_final"
   ]
  },
  {
   "cell_type": "markdown",
   "metadata": {},
   "source": [
    "# Final sMAPE"
   ]
  },
  {
   "cell_type": "code",
   "execution_count": 32,
   "metadata": {},
   "outputs": [
    {
     "data": {
      "text/plain": [
       "6.385163292511424"
      ]
     },
     "execution_count": 32,
     "metadata": {},
     "output_type": "execute_result"
    }
   ],
   "source": [
    "fin_sMAPE(best_sMAPE_rougher, best_sMAPE_final)"
   ]
  },
  {
   "cell_type": "markdown",
   "metadata": {},
   "source": [
    "Финальное sMAPE получилось не самым лучшим, но это обусловлено данными которые нам дали."
   ]
  },
  {
   "cell_type": "markdown",
   "metadata": {},
   "source": [
    "### Вывод \n",
    "Выбираем модели градиентного бустинга LightGBM за их скорость и качество предсказаний."
   ]
  },
  {
   "cell_type": "markdown",
   "metadata": {},
   "source": [
    "- [x]  Jupyter Notebook открыт\n",
    "- [x]  Весь код выполняется без ошибок\n",
    "- [x]  Ячейки с кодом расположены в порядке выполнения\n",
    "- [x]  Выполнен шаг 1: данные подготовлены\n",
    "    - [x]  Проверена формула вычисления эффективности обогащения\n",
    "    - [x]  Проанализированы признаки, недоступные в тестовой выборке\n",
    "    - [x]  Проведена предобработка данных\n",
    "- [x]  Выполнен шаг 2: данные проанализированы\n",
    "    - [x]  Исследовано изменение концентрации элементов на каждом этапе\n",
    "    - [x]  Проанализированы распределения размеров гранул на обучающей и тестовой выборках\n",
    "    - [x]  Исследованы суммарные концентрации\n",
    "    - [x]  Проанализированы и обработаны аномальные значения\n",
    "- [x]  Выполнен шаг 3: построена модель прогнозирования\n",
    "    - [x]  Написана функция для вычисления итогового *sMAPE*\n",
    "    - [x]  Обучено и проверено несколько моделей\n",
    "    - [x]  Выбрана лучшая модель, её качество проверено на тестовой выборке"
   ]
  }
 ],
 "metadata": {
  "kernelspec": {
   "display_name": "Python 3",
   "language": "python",
   "name": "python3"
  },
  "language_info": {
   "codemirror_mode": {
    "name": "ipython",
    "version": 3
   },
   "file_extension": ".py",
   "mimetype": "text/x-python",
   "name": "python",
   "nbconvert_exporter": "python",
   "pygments_lexer": "ipython3",
   "version": "3.8.5"
  },
  "toc": {
   "base_numbering": 1,
   "nav_menu": {},
   "number_sections": true,
   "sideBar": true,
   "skip_h1_title": true,
   "title_cell": "Table of Contents",
   "title_sidebar": "Contents",
   "toc_cell": false,
   "toc_position": {},
   "toc_section_display": true,
   "toc_window_display": false
  }
 },
 "nbformat": 4,
 "nbformat_minor": 2
}
