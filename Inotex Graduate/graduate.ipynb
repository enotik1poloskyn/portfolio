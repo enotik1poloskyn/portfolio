{
 "cells": [
  {
   "cell_type": "code",
   "execution_count": 1,
   "metadata": {},
   "outputs": [],
   "source": [
    "import pandas as pd\n",
    "import numpy as np\n",
    "import seaborn as sns\n",
    "import matplotlib.pyplot as plt\n",
    "import time\n",
    "import warnings\n",
    "warnings.filterwarnings('ignore')\n",
    "import re \n",
    "\n",
    "\n",
    "from sklearn.preprocessing import LabelEncoder, OneHotEncoder\n",
    "from sklearn.metrics import f1_score, accuracy_score, roc_auc_score, precision_score, recall_score, classification_report\n",
    "from sklearn.model_selection import GridSearchCV, train_test_split, RandomizedSearchCV\n",
    "from sklearn.utils import shuffle\n",
    "from sklearn.preprocessing import StandardScaler\n",
    "\n",
    "\n",
    "from sklearn.linear_model import LogisticRegression, SGDClassifier\n",
    "from sklearn.ensemble import RandomForestClassifier\n",
    "from sklearn.tree import DecisionTreeClassifier\n",
    "from lightgbm import LGBMClassifier\n",
    "from catboost import CatBoostClassifier\n",
    "from xgboost import XGBClassifier"
   ]
  },
  {
   "cell_type": "code",
   "execution_count": 2,
   "metadata": {},
   "outputs": [
    {
     "name": "stdout",
     "output_type": "stream",
     "text": [
      "<class 'pandas.core.frame.DataFrame'>\n",
      "Int64Index: 17891 entries, 0 to 17890\n",
      "Columns: 122 entries, sign_date to citizenship_name\n",
      "dtypes: float64(108), int64(2), object(12)\n",
      "memory usage: 16.8+ MB\n"
     ]
    },
    {
     "data": {
      "text/html": [
       "<div>\n",
       "<style scoped>\n",
       "    .dataframe tbody tr th:only-of-type {\n",
       "        vertical-align: middle;\n",
       "    }\n",
       "\n",
       "    .dataframe tbody tr th {\n",
       "        vertical-align: top;\n",
       "    }\n",
       "\n",
       "    .dataframe thead th {\n",
       "        text-align: right;\n",
       "    }\n",
       "</style>\n",
       "<table border=\"1\" class=\"dataframe\">\n",
       "  <thead>\n",
       "    <tr style=\"text-align: right;\">\n",
       "      <th></th>\n",
       "      <th>sign_date</th>\n",
       "      <th>ip_flag</th>\n",
       "      <th>target</th>\n",
       "      <th>f1100</th>\n",
       "      <th>f1110</th>\n",
       "      <th>f1150</th>\n",
       "      <th>f1160</th>\n",
       "      <th>f1170</th>\n",
       "      <th>f1180</th>\n",
       "      <th>f1190</th>\n",
       "      <th>...</th>\n",
       "      <th>winnernumber_95_ever</th>\n",
       "      <th>signednumber_95_ever</th>\n",
       "      <th>sum_95_ever</th>\n",
       "      <th>flag_disqualification</th>\n",
       "      <th>count_change_year</th>\n",
       "      <th>count_change_ever</th>\n",
       "      <th>birthdate</th>\n",
       "      <th>age</th>\n",
       "      <th>sex_name</th>\n",
       "      <th>citizenship_name</th>\n",
       "    </tr>\n",
       "  </thead>\n",
       "  <tbody>\n",
       "    <tr>\n",
       "      <th>0</th>\n",
       "      <td>01JAN2018:00:00:00</td>\n",
       "      <td>0</td>\n",
       "      <td>0</td>\n",
       "      <td>1.298961e+09</td>\n",
       "      <td>2154000.0</td>\n",
       "      <td>1.125573e+09</td>\n",
       "      <td>NaN</td>\n",
       "      <td>150010000.0</td>\n",
       "      <td>NaN</td>\n",
       "      <td>21224000.0</td>\n",
       "      <td>...</td>\n",
       "      <td>NaN</td>\n",
       "      <td>NaN</td>\n",
       "      <td>NaN</td>\n",
       "      <td>NaN</td>\n",
       "      <td>NaN</td>\n",
       "      <td>NaN</td>\n",
       "      <td>NaN</td>\n",
       "      <td>NaN</td>\n",
       "      <td>NaN</td>\n",
       "      <td>NaN</td>\n",
       "    </tr>\n",
       "    <tr>\n",
       "      <th>1</th>\n",
       "      <td>01JAN2018:00:00:00</td>\n",
       "      <td>1</td>\n",
       "      <td>0</td>\n",
       "      <td>NaN</td>\n",
       "      <td>NaN</td>\n",
       "      <td>NaN</td>\n",
       "      <td>NaN</td>\n",
       "      <td>NaN</td>\n",
       "      <td>NaN</td>\n",
       "      <td>NaN</td>\n",
       "      <td>...</td>\n",
       "      <td>NaN</td>\n",
       "      <td>NaN</td>\n",
       "      <td>NaN</td>\n",
       "      <td>NaN</td>\n",
       "      <td>NaN</td>\n",
       "      <td>NaN</td>\n",
       "      <td>NaN</td>\n",
       "      <td>NaN</td>\n",
       "      <td>NaN</td>\n",
       "      <td>NaN</td>\n",
       "    </tr>\n",
       "    <tr>\n",
       "      <th>2</th>\n",
       "      <td>01JAN2018:00:00:00</td>\n",
       "      <td>0</td>\n",
       "      <td>0</td>\n",
       "      <td>7.337400e+07</td>\n",
       "      <td>NaN</td>\n",
       "      <td>7.337400e+07</td>\n",
       "      <td>NaN</td>\n",
       "      <td>NaN</td>\n",
       "      <td>NaN</td>\n",
       "      <td>NaN</td>\n",
       "      <td>...</td>\n",
       "      <td>169.0</td>\n",
       "      <td>168.0</td>\n",
       "      <td>18351739.0</td>\n",
       "      <td>NaN</td>\n",
       "      <td>NaN</td>\n",
       "      <td>1.0</td>\n",
       "      <td>NaN</td>\n",
       "      <td>NaN</td>\n",
       "      <td>NaN</td>\n",
       "      <td>NaN</td>\n",
       "    </tr>\n",
       "    <tr>\n",
       "      <th>3</th>\n",
       "      <td>01JAN2018:00:00:00</td>\n",
       "      <td>0</td>\n",
       "      <td>0</td>\n",
       "      <td>1.937488e+09</td>\n",
       "      <td>122828000.0</td>\n",
       "      <td>6.103280e+08</td>\n",
       "      <td>NaN</td>\n",
       "      <td>809426000.0</td>\n",
       "      <td>356828000.0</td>\n",
       "      <td>38078000.0</td>\n",
       "      <td>...</td>\n",
       "      <td>NaN</td>\n",
       "      <td>NaN</td>\n",
       "      <td>NaN</td>\n",
       "      <td>NaN</td>\n",
       "      <td>NaN</td>\n",
       "      <td>NaN</td>\n",
       "      <td>NaN</td>\n",
       "      <td>NaN</td>\n",
       "      <td>NaN</td>\n",
       "      <td>NaN</td>\n",
       "    </tr>\n",
       "    <tr>\n",
       "      <th>4</th>\n",
       "      <td>01JAN2018:00:00:00</td>\n",
       "      <td>1</td>\n",
       "      <td>0</td>\n",
       "      <td>NaN</td>\n",
       "      <td>NaN</td>\n",
       "      <td>NaN</td>\n",
       "      <td>NaN</td>\n",
       "      <td>NaN</td>\n",
       "      <td>NaN</td>\n",
       "      <td>NaN</td>\n",
       "      <td>...</td>\n",
       "      <td>NaN</td>\n",
       "      <td>NaN</td>\n",
       "      <td>NaN</td>\n",
       "      <td>NaN</td>\n",
       "      <td>NaN</td>\n",
       "      <td>NaN</td>\n",
       "      <td>NaN</td>\n",
       "      <td>NaN</td>\n",
       "      <td>NaN</td>\n",
       "      <td>NaN</td>\n",
       "    </tr>\n",
       "  </tbody>\n",
       "</table>\n",
       "<p>5 rows × 122 columns</p>\n",
       "</div>"
      ],
      "text/plain": [
       "            sign_date  ip_flag  target         f1100        f1110  \\\n",
       "0  01JAN2018:00:00:00        0       0  1.298961e+09    2154000.0   \n",
       "1  01JAN2018:00:00:00        1       0           NaN          NaN   \n",
       "2  01JAN2018:00:00:00        0       0  7.337400e+07          NaN   \n",
       "3  01JAN2018:00:00:00        0       0  1.937488e+09  122828000.0   \n",
       "4  01JAN2018:00:00:00        1       0           NaN          NaN   \n",
       "\n",
       "          f1150  f1160        f1170        f1180       f1190  ...  \\\n",
       "0  1.125573e+09    NaN  150010000.0          NaN  21224000.0  ...   \n",
       "1           NaN    NaN          NaN          NaN         NaN  ...   \n",
       "2  7.337400e+07    NaN          NaN          NaN         NaN  ...   \n",
       "3  6.103280e+08    NaN  809426000.0  356828000.0  38078000.0  ...   \n",
       "4           NaN    NaN          NaN          NaN         NaN  ...   \n",
       "\n",
       "   winnernumber_95_ever  signednumber_95_ever  sum_95_ever  \\\n",
       "0                   NaN                   NaN          NaN   \n",
       "1                   NaN                   NaN          NaN   \n",
       "2                 169.0                 168.0   18351739.0   \n",
       "3                   NaN                   NaN          NaN   \n",
       "4                   NaN                   NaN          NaN   \n",
       "\n",
       "   flag_disqualification  count_change_year  count_change_ever  birthdate  \\\n",
       "0                    NaN                NaN                NaN        NaN   \n",
       "1                    NaN                NaN                NaN        NaN   \n",
       "2                    NaN                NaN                1.0        NaN   \n",
       "3                    NaN                NaN                NaN        NaN   \n",
       "4                    NaN                NaN                NaN        NaN   \n",
       "\n",
       "   age  sex_name  citizenship_name  \n",
       "0  NaN       NaN               NaN  \n",
       "1  NaN       NaN               NaN  \n",
       "2  NaN       NaN               NaN  \n",
       "3  NaN       NaN               NaN  \n",
       "4  NaN       NaN               NaN  \n",
       "\n",
       "[5 rows x 122 columns]"
      ]
     },
     "execution_count": 2,
     "metadata": {},
     "output_type": "execute_result"
    }
   ],
   "source": [
    "data = pd.read_csv('datasets/graduate/train_dataset_bank.csv', encoding='cp1251', sep=';').drop_duplicates()\n",
    "data.columns = data.columns.str.lower()\n",
    "\n",
    "\n",
    "data = data.drop(columns=['id_contract', 'id_client'])\n",
    "\n",
    "data.info()\n",
    "data.head()"
   ]
  },
  {
   "cell_type": "markdown",
   "metadata": {},
   "source": [
    "#  Удаление столбцов с большим количеством пропусков.\n",
    "\n",
    "Тк у нас есть 2 вида клиентов в ip_flag: 1(физ лица), у них все столбцы с доходами компнаии не имеют никаких значений, поэтому физ лица неначем предсказывать. "
   ]
  },
  {
   "cell_type": "markdown",
   "metadata": {},
   "source": [
    "# Что по физ лицам, анализ и что делаем"
   ]
  },
  {
   "cell_type": "code",
   "execution_count": 3,
   "metadata": {},
   "outputs": [
    {
     "data": {
      "text/plain": [
       "108"
      ]
     },
     "execution_count": 3,
     "metadata": {},
     "output_type": "execute_result"
    }
   ],
   "source": [
    "columns_to_plot = list(data.select_dtypes(['float64']).columns) \n",
    "len(columns_to_plot)"
   ]
  },
  {
   "cell_type": "markdown",
   "metadata": {},
   "source": [
    "Выбрал все колонки с какой то информацией."
   ]
  },
  {
   "cell_type": "code",
   "execution_count": 4,
   "metadata": {},
   "outputs": [],
   "source": [
    "df_nan = pd.DataFrame(data={'birthdate' : data[data['ip_flag']==1]['birthdate'].isna().value_counts()}, columns=['birthdate'])\n",
    "\n",
    "for column in columns_to_plot:\n",
    "    df_nan[column] = data[data['ip_flag']==1][column].isna().value_counts()"
   ]
  },
  {
   "cell_type": "code",
   "execution_count": 5,
   "metadata": {},
   "outputs": [
    {
     "data": {
      "text/html": [
       "<div>\n",
       "<style scoped>\n",
       "    .dataframe tbody tr th:only-of-type {\n",
       "        vertical-align: middle;\n",
       "    }\n",
       "\n",
       "    .dataframe tbody tr th {\n",
       "        vertical-align: top;\n",
       "    }\n",
       "\n",
       "    .dataframe thead th {\n",
       "        text-align: right;\n",
       "    }\n",
       "</style>\n",
       "<table border=\"1\" class=\"dataframe\">\n",
       "  <thead>\n",
       "    <tr style=\"text-align: right;\">\n",
       "      <th></th>\n",
       "      <th>birthdate</th>\n",
       "      <th>f1100</th>\n",
       "      <th>f1110</th>\n",
       "      <th>f1150</th>\n",
       "      <th>f1160</th>\n",
       "      <th>f1170</th>\n",
       "      <th>f1180</th>\n",
       "      <th>f1190</th>\n",
       "      <th>f1200</th>\n",
       "      <th>f1210</th>\n",
       "      <th>...</th>\n",
       "      <th>sum_95_year</th>\n",
       "      <th>admittednumber_95_ever</th>\n",
       "      <th>notadmittednumber_ever</th>\n",
       "      <th>winnernumber_95_ever</th>\n",
       "      <th>signednumber_95_ever</th>\n",
       "      <th>sum_95_ever</th>\n",
       "      <th>flag_disqualification</th>\n",
       "      <th>count_change_year</th>\n",
       "      <th>count_change_ever</th>\n",
       "      <th>age</th>\n",
       "    </tr>\n",
       "  </thead>\n",
       "  <tbody>\n",
       "    <tr>\n",
       "      <th>True</th>\n",
       "      <td>2081</td>\n",
       "      <td>3500.0</td>\n",
       "      <td>3500.0</td>\n",
       "      <td>3500.0</td>\n",
       "      <td>3500.0</td>\n",
       "      <td>3500.0</td>\n",
       "      <td>3500.0</td>\n",
       "      <td>3500.0</td>\n",
       "      <td>3500.0</td>\n",
       "      <td>3500.0</td>\n",
       "      <td>...</td>\n",
       "      <td>3500.0</td>\n",
       "      <td>3500.0</td>\n",
       "      <td>3500.0</td>\n",
       "      <td>3500.0</td>\n",
       "      <td>3500.0</td>\n",
       "      <td>3500.0</td>\n",
       "      <td>3500.0</td>\n",
       "      <td>3500.0</td>\n",
       "      <td>3500.0</td>\n",
       "      <td>2081</td>\n",
       "    </tr>\n",
       "    <tr>\n",
       "      <th>False</th>\n",
       "      <td>1419</td>\n",
       "      <td>NaN</td>\n",
       "      <td>NaN</td>\n",
       "      <td>NaN</td>\n",
       "      <td>NaN</td>\n",
       "      <td>NaN</td>\n",
       "      <td>NaN</td>\n",
       "      <td>NaN</td>\n",
       "      <td>NaN</td>\n",
       "      <td>NaN</td>\n",
       "      <td>...</td>\n",
       "      <td>NaN</td>\n",
       "      <td>NaN</td>\n",
       "      <td>NaN</td>\n",
       "      <td>NaN</td>\n",
       "      <td>NaN</td>\n",
       "      <td>NaN</td>\n",
       "      <td>NaN</td>\n",
       "      <td>NaN</td>\n",
       "      <td>NaN</td>\n",
       "      <td>1419</td>\n",
       "    </tr>\n",
       "  </tbody>\n",
       "</table>\n",
       "<p>2 rows × 109 columns</p>\n",
       "</div>"
      ],
      "text/plain": [
       "       birthdate   f1100   f1110   f1150   f1160   f1170   f1180   f1190  \\\n",
       "True        2081  3500.0  3500.0  3500.0  3500.0  3500.0  3500.0  3500.0   \n",
       "False       1419     NaN     NaN     NaN     NaN     NaN     NaN     NaN   \n",
       "\n",
       "        f1200   f1210  ...  sum_95_year  admittednumber_95_ever  \\\n",
       "True   3500.0  3500.0  ...       3500.0                  3500.0   \n",
       "False     NaN     NaN  ...          NaN                     NaN   \n",
       "\n",
       "       notadmittednumber_ever  winnernumber_95_ever  signednumber_95_ever  \\\n",
       "True                   3500.0                3500.0                3500.0   \n",
       "False                     NaN                   NaN                   NaN   \n",
       "\n",
       "       sum_95_ever  flag_disqualification  count_change_year  \\\n",
       "True        3500.0                 3500.0             3500.0   \n",
       "False          NaN                    NaN                NaN   \n",
       "\n",
       "       count_change_ever   age  \n",
       "True              3500.0  2081  \n",
       "False                NaN  1419  \n",
       "\n",
       "[2 rows x 109 columns]"
      ]
     },
     "execution_count": 5,
     "metadata": {},
     "output_type": "execute_result"
    }
   ],
   "source": [
    "df_nan"
   ]
  },
  {
   "cell_type": "markdown",
   "metadata": {},
   "source": [
    "Создал DF с колвом пропусков по столбцам."
   ]
  },
  {
   "cell_type": "code",
   "execution_count": 6,
   "metadata": {},
   "outputs": [
    {
     "data": {
      "text/plain": [
       "True     93\n",
       "False    16\n",
       "dtype: int64"
      ]
     },
     "execution_count": 6,
     "metadata": {},
     "output_type": "execute_result"
    }
   ],
   "source": [
    "df_nan.iloc[1].isna().value_counts()"
   ]
  },
  {
   "cell_type": "markdown",
   "metadata": {},
   "source": [
    "Посчитал, оказалось что только в 16 столбцах из 108 столбцов, есть хоть какие то значения."
   ]
  },
  {
   "cell_type": "code",
   "execution_count": 7,
   "metadata": {},
   "outputs": [
    {
     "data": {
      "text/plain": [
       "birthdate                     False\n",
       "okato_regioncode              False\n",
       "okato_fed                     False\n",
       "oktmo_code                    False\n",
       "oktmo_fed                     False\n",
       "plaintiff_casesnumber_year    False\n",
       "plaintiff_sum_year            False\n",
       "defendant_casesnumber_year    False\n",
       "defendant_sum_year            False\n",
       "thirdorotherperson_year       False\n",
       "plaintiff_casesnumber_ever    False\n",
       "plaintiff_sum_ever            False\n",
       "defendant_casesnumber_ever    False\n",
       "defendant_sum_ever            False\n",
       "thirdorotherperson_ever       False\n",
       "age                           False\n",
       "dtype: bool"
      ]
     },
     "execution_count": 7,
     "metadata": {},
     "output_type": "execute_result"
    }
   ],
   "source": [
    "save = df_nan.iloc[1].isna()\n",
    "save[save==False]"
   ]
  },
  {
   "cell_type": "markdown",
   "metadata": {},
   "source": [
    "Это столбцы с возрастом и образениями в суд, с этими данными ничего не сделать, только если у нас в таргете есть доминация, только тогда оставлю физлица."
   ]
  },
  {
   "cell_type": "code",
   "execution_count": 8,
   "metadata": {},
   "outputs": [
    {
     "data": {
      "text/plain": [
       "0    2288\n",
       "1    1212\n",
       "Name: target, dtype: int64"
      ]
     },
     "execution_count": 8,
     "metadata": {},
     "output_type": "execute_result"
    }
   ],
   "source": [
    "data[data['ip_flag']==1]['target'].value_counts()"
   ]
  },
  {
   "cell_type": "markdown",
   "metadata": {},
   "source": [
    "У нас нет доминации, удалю все значения где ip_flag=1, предсказывать мы его не сможем.  Так же удалю сам ip_flag."
   ]
  },
  {
   "cell_type": "code",
   "execution_count": 9,
   "metadata": {},
   "outputs": [],
   "source": [
    "data = data.loc[data['ip_flag'] == 0]\n",
    "data = data.drop(columns=['ip_flag'])"
   ]
  },
  {
   "cell_type": "markdown",
   "metadata": {},
   "source": [
    "# ИП лица."
   ]
  },
  {
   "cell_type": "code",
   "execution_count": 10,
   "metadata": {},
   "outputs": [],
   "source": [
    "data = data.drop(columns=['f1150_lag1', 'f1230_lag1', 'f1410_lag1', 'f1510_lag1', 'f1520_lag1', 'f2110_lag1',\n",
    "                 'f2120_lag1', 'f2200_lag1', 'f2210_lag1', 'f2220_lag1', 'f2300_lag1', 'f2320_lag1', 'f2330_lag1', 'f2400_lag1'])"
   ]
  },
  {
   "attachments": {
    "13c5e2ff-226f-4cf9-9b63-8ddb7bf9c3b3.png": {
     "image/png": "[encoded data removed]"
    }
   },
   "cell_type": "markdown",
   "metadata": {},
   "source": [
    "Удалю лаги, они сильно корелирует между собой, так что я их дропну! \n",
    "![Screenshot_13.png](attachment:13c5e2ff-226f-4cf9-9b63-8ddb7bf9c3b3.png)"
   ]
  },
  {
   "cell_type": "code",
   "execution_count": 11,
   "metadata": {},
   "outputs": [],
   "source": [
    "columns_group = ['f1110', 'f1150', 'f1160', 'f1170', 'f1180', 'f1190', 'f1200', 'f1210', 'f1220', 'f1230', 'f1240', 'f1250', 'f1260', 'f1300', 'f1310', 'f1320', 'f1350', \n",
    "                 'f1360', 'f1370', 'f1400', 'f1410', 'f1420', 'f1450', 'f1500', 'f1510', 'f1520', 'f1530', 'f1550', 'f1600', 'f1700', 'f2100', 'f2110', 'f2120', 'f2200', 'f2210', \n",
    "                 'f2220', 'f2300', 'f2310', 'f2320', 'f2330' ,'f2340', 'f2350', 'f2400', 'f2410']\n",
    "\n",
    "df_nan = pd.DataFrame(data={'f1100' : data['f1100'].isna().value_counts(normalize=True)}, columns=['f1100'])\n",
    "\n",
    "for column in columns_group:\n",
    "    df_nan[column] = data[column].isna().value_counts(normalize=True)\n",
    "\n",
    "\n"
   ]
  },
  {
   "cell_type": "code",
   "execution_count": 12,
   "metadata": {},
   "outputs": [
    {
     "data": {
      "text/plain": [
       "['f1100',\n",
       " 'f1110',\n",
       " 'f1150',\n",
       " 'f1160',\n",
       " 'f1170',\n",
       " 'f1180',\n",
       " 'f1190',\n",
       " 'f1220',\n",
       " 'f1240',\n",
       " 'f1260',\n",
       " 'f1320',\n",
       " 'f1350',\n",
       " 'f1360',\n",
       " 'f1400',\n",
       " 'f1410',\n",
       " 'f1420',\n",
       " 'f1450',\n",
       " 'f1510',\n",
       " 'f1530',\n",
       " 'f1550',\n",
       " 'f2210',\n",
       " 'f2220',\n",
       " 'f2310',\n",
       " 'f2320',\n",
       " 'f2330']"
      ]
     },
     "execution_count": 12,
     "metadata": {},
     "output_type": "execute_result"
    }
   ],
   "source": [
    "column_to_drop = df_nan.iloc[0]>0.5\n",
    "column_to_drop = list(column_to_drop[column_to_drop == True].index)\n",
    "column_to_drop"
   ]
  },
  {
   "cell_type": "code",
   "execution_count": 13,
   "metadata": {},
   "outputs": [],
   "source": [
    "data = data.drop(columns=column_to_drop)"
   ]
  },
  {
   "cell_type": "markdown",
   "metadata": {},
   "source": [
    "Выбираю все колонки где больше 50% пропусков."
   ]
  },
  {
   "cell_type": "code",
   "execution_count": 14,
   "metadata": {},
   "outputs": [],
   "source": [
    "check = ['plaintiff_casesnumber_year', 'plaintiff_sum_year', 'defendant_casesnumber_year', 'defendant_sum_year', 'thirdorotherperson_year', 'plaintiff_casesnumber_ever', 'plaintiff_sum_ever', \n",
    "'defendant_casesnumber_ever', 'defendant_sum_ever', 'thirdorotherperson_ever', 'admittednumber_233_year', 'notadmittednumber_233_year', 'winnernumber_233_year', 'signednumber_233_year', \n",
    "'sum_233_year', 'admittednumber_233_ever', 'notadmittednumber_233_ever', 'winnernumber_233_ever', 'signednumber_233_ever', 'sum_233_ever', 'admittednumber_95_year', 'notadmittednumber_95_year', \n",
    "'winnernumber_95_year', 'signednumber_95_year', 'sum_95_year', 'admittednumber_95_ever', 'notadmittednumber_ever', 'winnernumber_95_ever', 'signednumber_95_ever', 'sum_95_ever', 'flag_disqualification', \n",
    "'count_change_year', 'count_change_ever']\n",
    "\n",
    "\n",
    "df_nan = pd.DataFrame(data={'plaintiff_casesnumber_year' : data['plaintiff_casesnumber_year'].isna().value_counts(normalize=True)}, columns=['plaintiff_casesnumber_year'])\n",
    "\n",
    "for column in check:\n",
    "    df_nan[column] = data[column].isna().value_counts(normalize=True)\n"
   ]
  },
  {
   "cell_type": "markdown",
   "metadata": {},
   "source": [
    "Данные по судимостям удаляю, но не пытаюсь заполнить, я перед этим проверил что 0 там есть, соответсвенно заполнять нулями не логично."
   ]
  },
  {
   "cell_type": "code",
   "execution_count": 15,
   "metadata": {},
   "outputs": [
    {
     "data": {
      "text/plain": [
       "['plaintiff_casesnumber_year',\n",
       " 'plaintiff_sum_year',\n",
       " 'defendant_casesnumber_year',\n",
       " 'defendant_sum_year',\n",
       " 'thirdorotherperson_year',\n",
       " 'plaintiff_casesnumber_ever',\n",
       " 'plaintiff_sum_ever',\n",
       " 'defendant_casesnumber_ever',\n",
       " 'defendant_sum_ever',\n",
       " 'thirdorotherperson_ever',\n",
       " 'admittednumber_233_year',\n",
       " 'notadmittednumber_233_year',\n",
       " 'winnernumber_233_year',\n",
       " 'signednumber_233_year',\n",
       " 'sum_233_year',\n",
       " 'admittednumber_233_ever',\n",
       " 'notadmittednumber_233_ever',\n",
       " 'winnernumber_233_ever',\n",
       " 'signednumber_233_ever',\n",
       " 'sum_233_ever',\n",
       " 'admittednumber_95_year',\n",
       " 'notadmittednumber_95_year',\n",
       " 'winnernumber_95_year',\n",
       " 'signednumber_95_year',\n",
       " 'sum_95_year',\n",
       " 'admittednumber_95_ever',\n",
       " 'notadmittednumber_ever',\n",
       " 'winnernumber_95_ever',\n",
       " 'signednumber_95_ever',\n",
       " 'sum_95_ever',\n",
       " 'flag_disqualification',\n",
       " 'count_change_year',\n",
       " 'count_change_ever']"
      ]
     },
     "execution_count": 15,
     "metadata": {},
     "output_type": "execute_result"
    }
   ],
   "source": [
    "dubl_col = df_nan.iloc[0]>0.5\n",
    "dubl_col = list(dubl_col[dubl_col == True].index)\n",
    "dubl_col"
   ]
  },
  {
   "cell_type": "markdown",
   "metadata": {},
   "source": [
    "Удалил все столбцы с пропусками больше 50%"
   ]
  },
  {
   "cell_type": "code",
   "execution_count": 16,
   "metadata": {},
   "outputs": [],
   "source": [
    "data = data.drop(columns=dubl_col)"
   ]
  },
  {
   "cell_type": "markdown",
   "metadata": {},
   "source": [
    "### Так же удалю данные о дублирующие колонках."
   ]
  },
  {
   "cell_type": "code",
   "execution_count": 17,
   "metadata": {},
   "outputs": [],
   "source": [
    "data = data.drop(columns = ['countcoowneregrul', 'countcoownerfcsm', 'countbranch', 'countbranchegrul', 'telephonecount'])"
   ]
  },
  {
   "cell_type": "markdown",
   "metadata": {},
   "source": [
    "## Пропуски в object признаках."
   ]
  },
  {
   "cell_type": "code",
   "execution_count": 18,
   "metadata": {},
   "outputs": [],
   "source": [
    "def class_bar(data, sign, x=8, y=5):\n",
    "    df = data.copy()\n",
    "    df_row = (df[sign].value_counts(normalize = True) * 100).reset_index()\n",
    "    \n",
    "    \n",
    "    plt.gcf().set_size_inches(x, y)\n",
    "    plt.rcParams.update({'font.size': 11})\n",
    "    sns.barplot(x = 'index', y = sign, data = df_row, edgecolor='.1', saturation = 1)\n",
    "    for index, row_text in df_row.iterrows():\n",
    "            plt.text(index, row_text[sign] * 1.01, '{}%'.format(round(row_text[sign], 1)), color = 'black', ha = 'center')\n",
    "        \n",
    "        \n",
    "    plt.ylim([0, 250])\n",
    "    plt.grid(axis = 'y')\n",
    "    plt.xlabel('Класс')\n",
    "    plt.ylabel('Доля класса')\n",
    "    plt.title(f'Диаграмма классового баланса признака: {sign}')\n",
    "    plt.show()"
   ]
  },
  {
   "cell_type": "code",
   "execution_count": 19,
   "metadata": {},
   "outputs": [
    {
     "data": {
      "text/plain": [
       "['sign_date',\n",
       " 'datefirstreg',\n",
       " 'okfs_group',\n",
       " 'okopf_group',\n",
       " 'okogu_group',\n",
       " 'workersrange',\n",
       " 'taxreg_regdate',\n",
       " 'taxregpay_regdate',\n",
       " 'okved_code',\n",
       " 'birthdate',\n",
       " 'sex_name',\n",
       " 'citizenship_name']"
      ]
     },
     "execution_count": 19,
     "metadata": {},
     "output_type": "execute_result"
    }
   ],
   "source": [
    "columns_to_plot = list(data.select_dtypes(['object']).columns) \n",
    "columns_to_plot"
   ]
  },
  {
   "cell_type": "code",
   "execution_count": 20,
   "metadata": {},
   "outputs": [
    {
     "data": {
      "text/html": [
       "<div>\n",
       "<style scoped>\n",
       "    .dataframe tbody tr th:only-of-type {\n",
       "        vertical-align: middle;\n",
       "    }\n",
       "\n",
       "    .dataframe tbody tr th {\n",
       "        vertical-align: top;\n",
       "    }\n",
       "\n",
       "    .dataframe thead th {\n",
       "        text-align: right;\n",
       "    }\n",
       "</style>\n",
       "<table border=\"1\" class=\"dataframe\">\n",
       "  <thead>\n",
       "    <tr style=\"text-align: right;\">\n",
       "      <th></th>\n",
       "      <th>okogu_group</th>\n",
       "      <th>sign_date</th>\n",
       "      <th>datefirstreg</th>\n",
       "      <th>okfs_group</th>\n",
       "      <th>okopf_group</th>\n",
       "      <th>workersrange</th>\n",
       "      <th>taxreg_regdate</th>\n",
       "      <th>taxregpay_regdate</th>\n",
       "      <th>okved_code</th>\n",
       "      <th>birthdate</th>\n",
       "      <th>sex_name</th>\n",
       "      <th>citizenship_name</th>\n",
       "    </tr>\n",
       "  </thead>\n",
       "  <tbody>\n",
       "    <tr>\n",
       "      <th>False</th>\n",
       "      <td>14388</td>\n",
       "      <td>14391.0</td>\n",
       "      <td>14389</td>\n",
       "      <td>14391.0</td>\n",
       "      <td>14391.0</td>\n",
       "      <td>13911</td>\n",
       "      <td>14386</td>\n",
       "      <td>14295</td>\n",
       "      <td>14381</td>\n",
       "      <td>NaN</td>\n",
       "      <td>NaN</td>\n",
       "      <td>NaN</td>\n",
       "    </tr>\n",
       "    <tr>\n",
       "      <th>True</th>\n",
       "      <td>3</td>\n",
       "      <td>NaN</td>\n",
       "      <td>2</td>\n",
       "      <td>NaN</td>\n",
       "      <td>NaN</td>\n",
       "      <td>480</td>\n",
       "      <td>5</td>\n",
       "      <td>96</td>\n",
       "      <td>10</td>\n",
       "      <td>14391.0</td>\n",
       "      <td>14391.0</td>\n",
       "      <td>14391.0</td>\n",
       "    </tr>\n",
       "  </tbody>\n",
       "</table>\n",
       "</div>"
      ],
      "text/plain": [
       "       okogu_group  sign_date  datefirstreg  okfs_group  okopf_group  \\\n",
       "False        14388    14391.0         14389     14391.0      14391.0   \n",
       "True             3        NaN             2         NaN          NaN   \n",
       "\n",
       "       workersrange  taxreg_regdate  taxregpay_regdate  okved_code  birthdate  \\\n",
       "False         13911           14386              14295       14381        NaN   \n",
       "True            480               5                 96          10    14391.0   \n",
       "\n",
       "       sex_name  citizenship_name  \n",
       "False       NaN               NaN  \n",
       "True    14391.0           14391.0  "
      ]
     },
     "execution_count": 20,
     "metadata": {},
     "output_type": "execute_result"
    }
   ],
   "source": [
    "df_nan = pd.DataFrame(data={'okogu_group' : data['okogu_group'].isna().value_counts()}, columns=['okogu_group'])\n",
    "\n",
    "for column in columns_to_plot:\n",
    "    df_nan[column] = data[column].isna().value_counts()\n",
    "\n",
    "df_nan"
   ]
  },
  {
   "cell_type": "markdown",
   "metadata": {},
   "source": [
    "Дропаем birthdate, sex_name, citizenship_name. Остальные пропуски, я просто дропну, меньше 10%."
   ]
  },
  {
   "cell_type": "code",
   "execution_count": 21,
   "metadata": {},
   "outputs": [
    {
     "data": {
      "image/png": "[encoded data removed]",
      "text/plain": [
       "<Figure size 576x360 with 1 Axes>"
      ]
     },
     "metadata": {
      "needs_background": "light"
     },
     "output_type": "display_data"
    }
   ],
   "source": [
    "class_bar(data, 'okfs_group')"
   ]
  },
  {
   "cell_type": "code",
   "execution_count": 22,
   "metadata": {},
   "outputs": [
    {
     "data": {
      "image/png": "[encoded data removed]",
      "text/plain": [
       "<Figure size 576x360 with 1 Axes>"
      ]
     },
     "metadata": {
      "needs_background": "light"
     },
     "output_type": "display_data"
    }
   ],
   "source": [
    "class_bar(data, 'okogu_group')"
   ]
  },
  {
   "cell_type": "code",
   "execution_count": 23,
   "metadata": {},
   "outputs": [
    {
     "data": {
      "image/png": "[encoded data removed]",
      "text/plain": [
       "<Figure size 576x360 with 1 Axes>"
      ]
     },
     "metadata": {
      "needs_background": "light"
     },
     "output_type": "display_data"
    }
   ],
   "source": [
    "class_bar(data, 'okopf_group')"
   ]
  },
  {
   "cell_type": "markdown",
   "metadata": {},
   "source": [
    "Так же удалю все группы, слишком большой дисбаланс, чтобы его оставлять."
   ]
  },
  {
   "cell_type": "code",
   "execution_count": 24,
   "metadata": {},
   "outputs": [],
   "source": [
    "data = data.drop(columns=['birthdate', 'sex_name', 'citizenship_name', 'okfs_group', 'okogu_group', 'okopf_group', 'age', 'oktmo_fed'])"
   ]
  },
  {
   "cell_type": "code",
   "execution_count": 25,
   "metadata": {},
   "outputs": [
    {
     "data": {
      "text/plain": [
       "<AxesSubplot:>"
      ]
     },
     "execution_count": 25,
     "metadata": {},
     "output_type": "execute_result"
    },
    {
     "data": {
      "image/png": "[encoded data removed]",
      "text/plain": [
       "<Figure size 936x576 with 2 Axes>"
      ]
     },
     "metadata": {
      "needs_background": "light"
     },
     "output_type": "display_data"
    }
   ],
   "source": [
    "plt.figure(figsize=(13, 8))\n",
    "sns.heatmap(data.corr()>0.9, annot=True)"
   ]
  },
  {
   "cell_type": "code",
   "execution_count": 26,
   "metadata": {},
   "outputs": [],
   "source": [
    "data = data.drop(columns=['f1200', 'f1500', 'f1700', 'f2120', 'f2300', 'okato_fed', 'okato_regioncode'])"
   ]
  },
  {
   "cell_type": "markdown",
   "metadata": {},
   "source": [
    "Удалил все коррелирующие признаки."
   ]
  },
  {
   "cell_type": "markdown",
   "metadata": {},
   "source": [
    "# Заполнение пропусков.\n",
    "#### okved_code"
   ]
  },
  {
   "cell_type": "code",
   "execution_count": 27,
   "metadata": {},
   "outputs": [
    {
     "data": {
      "text/plain": [
       "0        35\n",
       "2        36\n",
       "3        35\n",
       "5        84\n",
       "7        35\n",
       "         ..\n",
       "17886    36\n",
       "17887    86\n",
       "17888    46\n",
       "17889    46\n",
       "17890    43\n",
       "Name: okved_code, Length: 14391, dtype: int64"
      ]
     },
     "execution_count": 27,
     "metadata": {},
     "output_type": "execute_result"
    }
   ],
   "source": [
    "data['okved_code'] = data['okved_code'].fillna('9999')\n",
    "data['okved_code'] = data['okved_code'].apply(lambda x: int(str(x).split('.')[0]))\n",
    "data['okved_code']"
   ]
  },
  {
   "cell_type": "markdown",
   "metadata": {},
   "source": [
    "Заполнил пропуски в оkved выбивающиемся значениями, так же выбрал первые 2 цифры в коде, для упрощения кодирования.\n",
    "#### workersrange\n",
    "Беру первую границу во всех строках. Пропуски заполню выбивающиемся значениями"
   ]
  },
  {
   "cell_type": "code",
   "execution_count": 28,
   "metadata": {},
   "outputs": [
    {
     "data": {
      "text/plain": [
       "0        1001\n",
       "2          51\n",
       "3         501\n",
       "5        5000\n",
       "7        5000\n",
       "         ... \n",
       "17886      51\n",
       "17887    1001\n",
       "17888       0\n",
       "17889       0\n",
       "17890      16\n",
       "Name: workersrange, Length: 14391, dtype: int64"
      ]
     },
     "execution_count": 28,
     "metadata": {},
     "output_type": "execute_result"
    }
   ],
   "source": [
    "data['workersrange'] = data['workersrange'].fillna('-9999')\n",
    "data['workersrange'] = data['workersrange'].apply(lambda x: int(str(x).split()[0]))\n",
    "data['workersrange']"
   ]
  },
  {
   "cell_type": "markdown",
   "metadata": {},
   "source": [
    "### Все пропуски в float признаках."
   ]
  },
  {
   "cell_type": "code",
   "execution_count": 29,
   "metadata": {},
   "outputs": [],
   "source": [
    "to_fillna = ['f1210', 'f1230', 'f1250', 'f1300', 'f1310', 'f1370', 'f1520', 'f1600', 'f2100', 'f2110', 'f2200', 'f2340', 'f2350', 'f2400', 'f2410']\n",
    "\n",
    "for column in to_fillna:\n",
    "    data[column] = data[column].fillna(data[column].median())\n",
    "    \n",
    "data = data.dropna()"
   ]
  },
  {
   "cell_type": "markdown",
   "metadata": {},
   "source": [
    "Заполнил пропуски медианой.<br>\n",
    "<strong>Остальные пропуски я дропаю, тк пропусков меньше 10% процентов.</strong>"
   ]
  },
  {
   "cell_type": "markdown",
   "metadata": {},
   "source": [
    "## Добавление временных колонок.\n",
    "Добавил год и месяц регистрации, и добавил годы регистрации в налоговой."
   ]
  },
  {
   "cell_type": "code",
   "execution_count": 30,
   "metadata": {},
   "outputs": [],
   "source": [
    "data['sign_year'] = data['sign_date'].apply(lambda x: int(re.search('\\d{4}', str(x))[0]))\n",
    "data['sign_month'] = data['sign_date'].apply(lambda x: re.search('\\D{3}', str(x))[0])\n",
    "\n",
    "data['firstreg_year'] = data['datefirstreg'].apply(lambda x: int(re.search('\\d{4}', str(x))[0]))\n",
    "data['firstreg_month'] = data['datefirstreg'].apply(lambda x: re.search('\\D{3}', str(x))[0])\n",
    "\n",
    "data['taxreg_year'] = data['taxreg_regdate'].apply(lambda x: int(re.search('\\d{4}', str(x))[0]))\n"
   ]
  },
  {
   "cell_type": "markdown",
   "metadata": {},
   "source": [
    "## Преображение кодов.\n",
    "Oktmo коды:"
   ]
  },
  {
   "cell_type": "code",
   "execution_count": 31,
   "metadata": {},
   "outputs": [
    {
     "data": {
      "text/plain": [
       "1512"
      ]
     },
     "execution_count": 31,
     "metadata": {},
     "output_type": "execute_result"
    }
   ],
   "source": [
    "len(data['oktmo_code'].unique())"
   ]
  },
  {
   "cell_type": "code",
   "execution_count": 32,
   "metadata": {},
   "outputs": [],
   "source": [
    "oktmo_cnts = data['oktmo_code'].value_counts()\n",
    "rare_oktmo_vls = oktmo_cnts[oktmo_cnts < data.shape[0] * 0.01].index.values\n",
    "data.loc[data['oktmo_code'].isin(rare_oktmo_vls), 'oktmo_code']  = -9999\n",
    "\n",
    "data['oktmo_code'] = data['oktmo_code'].astype('int')"
   ]
  },
  {
   "cell_type": "code",
   "execution_count": 33,
   "metadata": {},
   "outputs": [
    {
     "data": {
      "text/plain": [
       "2"
      ]
     },
     "execution_count": 33,
     "metadata": {},
     "output_type": "execute_result"
    }
   ],
   "source": [
    "len(data['oktmo_code'].unique())"
   ]
  },
  {
   "cell_type": "markdown",
   "metadata": {},
   "source": [
    "### Кодировка."
   ]
  },
  {
   "cell_type": "code",
   "execution_count": 34,
   "metadata": {},
   "outputs": [],
   "source": [
    "label_columns = ['sign_month', 'firstreg_month']\n",
    "le = LabelEncoder()\n",
    "for column in label_columns:\n",
    "    le.fit(data[column])\n",
    "    data[column] = le.transform(data[column])"
   ]
  },
  {
   "cell_type": "code",
   "execution_count": 35,
   "metadata": {},
   "outputs": [],
   "source": [
    "columns_to_drop = list(data.select_dtypes(['object']).columns) \n",
    "data = data.drop(columns=columns_to_drop)"
   ]
  },
  {
   "cell_type": "code",
   "execution_count": 36,
   "metadata": {},
   "outputs": [
    {
     "name": "stdout",
     "output_type": "stream",
     "text": [
      "<class 'pandas.core.frame.DataFrame'>\n",
      "Int64Index: 14295 entries, 0 to 17890\n",
      "Data columns (total 30 columns):\n",
      " #   Column                 Non-Null Count  Dtype  \n",
      "---  ------                 --------------  -----  \n",
      " 0   target                 14295 non-null  int64  \n",
      " 1   f1210                  14295 non-null  float64\n",
      " 2   f1230                  14295 non-null  float64\n",
      " 3   f1250                  14295 non-null  float64\n",
      " 4   f1300                  14295 non-null  float64\n",
      " 5   f1310                  14295 non-null  float64\n",
      " 6   f1370                  14295 non-null  float64\n",
      " 7   f1520                  14295 non-null  float64\n",
      " 8   f1600                  14295 non-null  float64\n",
      " 9   f2100                  14295 non-null  float64\n",
      " 10  f2110                  14295 non-null  float64\n",
      " 11  f2200                  14295 non-null  float64\n",
      " 12  f2340                  14295 non-null  float64\n",
      " 13  f2350                  14295 non-null  float64\n",
      " 14  f2400                  14295 non-null  float64\n",
      " 15  f2410                  14295 non-null  float64\n",
      " 16  egrpoincluded          14295 non-null  float64\n",
      " 17  oktmo_code             14295 non-null  int32  \n",
      " 18  workersrange           14295 non-null  int64  \n",
      " 19  countcoownerrosstat    14295 non-null  float64\n",
      " 20  countbranchrosstat     14295 non-null  float64\n",
      " 21  managercountincountry  14295 non-null  float64\n",
      " 22  managercountinregion   14295 non-null  float64\n",
      " 23  managerinncount        14295 non-null  float64\n",
      " 24  okved_code             14295 non-null  int64  \n",
      " 25  sign_year              14295 non-null  int64  \n",
      " 26  sign_month             14295 non-null  int32  \n",
      " 27  firstreg_year          14295 non-null  int64  \n",
      " 28  firstreg_month         14295 non-null  int32  \n",
      " 29  taxreg_year            14295 non-null  int64  \n",
      "dtypes: float64(21), int32(3), int64(6)\n",
      "memory usage: 3.2 MB\n"
     ]
    }
   ],
   "source": [
    "data.info()"
   ]
  },
  {
   "cell_type": "markdown",
   "metadata": {},
   "source": [
    "### Чистка выбросов."
   ]
  },
  {
   "cell_type": "code",
   "execution_count": 37,
   "metadata": {},
   "outputs": [],
   "source": [
    "def boxplot_clear(data, column):\n",
    "    \n",
    "    data_to_clear = data\n",
    "    \n",
    "    \n",
    "    print(f'___________________BEFORE CLEAR: {column}___________________\\n\\n')\n",
    "    sns.boxplot(data[column])\n",
    "    plt.show()\n",
    "\n",
    "    \n",
    "    Q1 = data[column].quantile(0.25)\n",
    "    Q3 = data[column].quantile(0.75)\n",
    "    IQR = Q3 - Q1\n",
    "    \n",
    "    first_border = Q1 - 1.5*IQR\n",
    "    second_border = Q3 + 1.5*IQR\n",
    "    \n",
    "    cleared_data = data_to_clear[(data_to_clear[column] >= first_border) & (data_to_clear[column] <= second_border)] # \n",
    "    \n",
    "    \n",
    "    \n",
    "    print(f'___________________AFTER CLEAR: {column}________________\\n\\n')\n",
    "    sns.boxplot(cleared_data[column])\n",
    "    plt.show()\n",
    "    sns.histplot(cleared_data[column])\n",
    "    plt.show()\n",
    "    \n",
    "    \n",
    "    \n",
    "    print(f'Границы чистки выбросов: от:{first_border} до:{second_border}\\n\\n\\n')\n",
    "    \n",
    "    \n",
    "    return cleared_data"
   ]
  },
  {
   "cell_type": "code",
   "execution_count": 38,
   "metadata": {},
   "outputs": [
    {
     "name": "stdout",
     "output_type": "stream",
     "text": [
      "___________________BEFORE CLEAR: managercountincountry___________________\n",
      "\n",
      "\n"
     ]
    },
    {
     "data": {
      "image/png": "[encoded data removed]",
      "text/plain": [
       "<Figure size 432x288 with 1 Axes>"
      ]
     },
     "metadata": {
      "needs_background": "light"
     },
     "output_type": "display_data"
    },
    {
     "name": "stdout",
     "output_type": "stream",
     "text": [
      "___________________AFTER CLEAR: managercountincountry________________\n",
      "\n",
      "\n"
     ]
    },
    {
     "data": {
      "image/png": "[encoded data removed]",
      "text/plain": [
       "<Figure size 432x288 with 1 Axes>"
      ]
     },
     "metadata": {
      "needs_background": "light"
     },
     "output_type": "display_data"
    },
    {
     "data": {
      "image/png": "[encoded data removed]",
      "text/plain": [
       "<Figure size 432x288 with 1 Axes>"
      ]
     },
     "metadata": {
      "needs_background": "light"
     },
     "output_type": "display_data"
    },
    {
     "name": "stdout",
     "output_type": "stream",
     "text": [
      "Границы чистки выбросов: от:-2.0 до:6.0\n",
      "\n",
      "\n",
      "\n"
     ]
    }
   ],
   "source": [
    "data = boxplot_clear(data,'managercountincountry')"
   ]
  },
  {
   "cell_type": "code",
   "execution_count": 39,
   "metadata": {},
   "outputs": [
    {
     "name": "stdout",
     "output_type": "stream",
     "text": [
      "___________________BEFORE CLEAR: f1210___________________\n",
      "\n",
      "\n"
     ]
    },
    {
     "data": {
      "image/png": "[encoded data removed]",
      "text/plain": [
       "<Figure size 432x288 with 1 Axes>"
      ]
     },
     "metadata": {
      "needs_background": "light"
     },
     "output_type": "display_data"
    },
    {
     "name": "stdout",
     "output_type": "stream",
     "text": [
      "___________________AFTER CLEAR: f1210________________\n",
      "\n",
      "\n"
     ]
    },
    {
     "data": {
      "image/png": "[encoded data removed]",
      "text/plain": [
       "<Figure size 432x288 with 1 Axes>"
      ]
     },
     "metadata": {
      "needs_background": "light"
     },
     "output_type": "display_data"
    },
    {
     "data": {
      "image/png": "[encoded data removed]",
      "text/plain": [
       "<Figure size 432x288 with 1 Axes>"
      ]
     },
     "metadata": {
      "needs_background": "light"
     },
     "output_type": "display_data"
    },
    {
     "name": "stdout",
     "output_type": "stream",
     "text": [
      "Границы чистки выбросов: от:-10448500.0 до:21395500.0\n",
      "\n",
      "\n",
      "\n"
     ]
    }
   ],
   "source": [
    "data = boxplot_clear(data,'f1210')"
   ]
  },
  {
   "cell_type": "code",
   "execution_count": 40,
   "metadata": {},
   "outputs": [
    {
     "name": "stdout",
     "output_type": "stream",
     "text": [
      "___________________BEFORE CLEAR: f1230___________________\n",
      "\n",
      "\n"
     ]
    },
    {
     "data": {
      "image/png": "[encoded data removed]",
      "text/plain": [
       "<Figure size 432x288 with 1 Axes>"
      ]
     },
     "metadata": {
      "needs_background": "light"
     },
     "output_type": "display_data"
    },
    {
     "name": "stdout",
     "output_type": "stream",
     "text": [
      "___________________AFTER CLEAR: f1230________________\n",
      "\n",
      "\n"
     ]
    },
    {
     "data": {
      "image/png": "[encoded data removed]",
      "text/plain": [
       "<Figure size 432x288 with 1 Axes>"
      ]
     },
     "metadata": {
      "needs_background": "light"
     },
     "output_type": "display_data"
    },
    {
     "data": {
      "image/png": "[encoded data removed]",
      "text/plain": [
       "<Figure size 432x288 with 1 Axes>"
      ]
     },
     "metadata": {
      "needs_background": "light"
     },
     "output_type": "display_data"
    },
    {
     "name": "stdout",
     "output_type": "stream",
     "text": [
      "Границы чистки выбросов: от:-16060750.0 до:34513250.0\n",
      "\n",
      "\n",
      "\n"
     ]
    }
   ],
   "source": [
    "data = boxplot_clear(data,'f1230')"
   ]
  },
  {
   "cell_type": "code",
   "execution_count": 41,
   "metadata": {},
   "outputs": [
    {
     "name": "stdout",
     "output_type": "stream",
     "text": [
      "___________________BEFORE CLEAR: f1250___________________\n",
      "\n",
      "\n"
     ]
    },
    {
     "data": {
      "image/png": "[encoded data removed]",
      "text/plain": [
       "<Figure size 432x288 with 1 Axes>"
      ]
     },
     "metadata": {
      "needs_background": "light"
     },
     "output_type": "display_data"
    },
    {
     "name": "stdout",
     "output_type": "stream",
     "text": [
      "___________________AFTER CLEAR: f1250________________\n",
      "\n",
      "\n"
     ]
    },
    {
     "data": {
      "image/png": "[encoded data removed]",
      "text/plain": [
       "<Figure size 432x288 with 1 Axes>"
      ]
     },
     "metadata": {
      "needs_background": "light"
     },
     "output_type": "display_data"
    },
    {
     "data": {
      "image/png": "[encoded data removed]",
      "text/plain": [
       "<Figure size 432x288 with 1 Axes>"
      ]
     },
     "metadata": {
      "needs_background": "light"
     },
     "output_type": "display_data"
    },
    {
     "name": "stdout",
     "output_type": "stream",
     "text": [
      "Границы чистки выбросов: от:-2147000.0 до:4317000.0\n",
      "\n",
      "\n",
      "\n"
     ]
    }
   ],
   "source": [
    "data = boxplot_clear(data,'f1250')"
   ]
  },
  {
   "cell_type": "code",
   "execution_count": 42,
   "metadata": {},
   "outputs": [
    {
     "name": "stdout",
     "output_type": "stream",
     "text": [
      "___________________BEFORE CLEAR: f1300___________________\n",
      "\n",
      "\n"
     ]
    },
    {
     "data": {
      "image/png": "[encoded data removed]",
      "text/plain": [
       "<Figure size 432x288 with 1 Axes>"
      ]
     },
     "metadata": {
      "needs_background": "light"
     },
     "output_type": "display_data"
    },
    {
     "name": "stdout",
     "output_type": "stream",
     "text": [
      "___________________AFTER CLEAR: f1300________________\n",
      "\n",
      "\n"
     ]
    },
    {
     "data": {
      "image/png": "[encoded data removed]",
      "text/plain": [
       "<Figure size 432x288 with 1 Axes>"
      ]
     },
     "metadata": {
      "needs_background": "light"
     },
     "output_type": "display_data"
    },
    {
     "data": {
      "image/png": "[encoded data removed]",
      "text/plain": [
       "<Figure size 432x288 with 1 Axes>"
      ]
     },
     "metadata": {
      "needs_background": "light"
     },
     "output_type": "display_data"
    },
    {
     "name": "stdout",
     "output_type": "stream",
     "text": [
      "Границы чистки выбросов: от:-6174750.0 до:11119250.0\n",
      "\n",
      "\n",
      "\n"
     ]
    }
   ],
   "source": [
    "data = boxplot_clear(data,'f1300')"
   ]
  },
  {
   "cell_type": "code",
   "execution_count": 43,
   "metadata": {},
   "outputs": [
    {
     "name": "stdout",
     "output_type": "stream",
     "text": [
      "___________________BEFORE CLEAR: f1370___________________\n",
      "\n",
      "\n"
     ]
    },
    {
     "data": {
      "image/png": "[encoded data removed]",
      "text/plain": [
       "<Figure size 432x288 with 1 Axes>"
      ]
     },
     "metadata": {
      "needs_background": "light"
     },
     "output_type": "display_data"
    },
    {
     "name": "stdout",
     "output_type": "stream",
     "text": [
      "___________________AFTER CLEAR: f1370________________\n",
      "\n",
      "\n"
     ]
    },
    {
     "data": {
      "image/png": "[encoded data removed]",
      "text/plain": [
       "<Figure size 432x288 with 1 Axes>"
      ]
     },
     "metadata": {
      "needs_background": "light"
     },
     "output_type": "display_data"
    },
    {
     "data": {
      "image/png": "[encoded data removed]",
      "text/plain": [
       "<Figure size 432x288 with 1 Axes>"
      ]
     },
     "metadata": {
      "needs_background": "light"
     },
     "output_type": "display_data"
    },
    {
     "name": "stdout",
     "output_type": "stream",
     "text": [
      "Границы чистки выбросов: от:-960500.0 до:9851500.0\n",
      "\n",
      "\n",
      "\n"
     ]
    }
   ],
   "source": [
    "data = boxplot_clear(data,'f1370')"
   ]
  },
  {
   "cell_type": "code",
   "execution_count": 44,
   "metadata": {},
   "outputs": [
    {
     "name": "stdout",
     "output_type": "stream",
     "text": [
      "___________________BEFORE CLEAR: f1520___________________\n",
      "\n",
      "\n"
     ]
    },
    {
     "data": {
      "image/png": "[encoded data removed]",
      "text/plain": [
       "<Figure size 432x288 with 1 Axes>"
      ]
     },
     "metadata": {
      "needs_background": "light"
     },
     "output_type": "display_data"
    },
    {
     "name": "stdout",
     "output_type": "stream",
     "text": [
      "___________________AFTER CLEAR: f1520________________\n",
      "\n",
      "\n"
     ]
    },
    {
     "data": {
      "image/png": "[encoded data removed]",
      "text/plain": [
       "<Figure size 432x288 with 1 Axes>"
      ]
     },
     "metadata": {
      "needs_background": "light"
     },
     "output_type": "display_data"
    },
    {
     "data": {
      "image/png": "[encoded data removed]",
      "text/plain": [
       "<Figure size 432x288 with 1 Axes>"
      ]
     },
     "metadata": {
      "needs_background": "light"
     },
     "output_type": "display_data"
    },
    {
     "name": "stdout",
     "output_type": "stream",
     "text": [
      "Границы чистки выбросов: от:-14222000.0 до:26306000.0\n",
      "\n",
      "\n",
      "\n"
     ]
    }
   ],
   "source": [
    "data = boxplot_clear(data,'f1520')"
   ]
  },
  {
   "cell_type": "code",
   "execution_count": 45,
   "metadata": {},
   "outputs": [
    {
     "name": "stdout",
     "output_type": "stream",
     "text": [
      "___________________BEFORE CLEAR: f1600___________________\n",
      "\n",
      "\n"
     ]
    },
    {
     "data": {
      "image/png": "[encoded data removed]",
      "text/plain": [
       "<Figure size 432x288 with 1 Axes>"
      ]
     },
     "metadata": {
      "needs_background": "light"
     },
     "output_type": "display_data"
    },
    {
     "name": "stdout",
     "output_type": "stream",
     "text": [
      "___________________AFTER CLEAR: f1600________________\n",
      "\n",
      "\n"
     ]
    },
    {
     "data": {
      "image/png": "[encoded data removed]",
      "text/plain": [
       "<Figure size 432x288 with 1 Axes>"
      ]
     },
     "metadata": {
      "needs_background": "light"
     },
     "output_type": "display_data"
    },
    {
     "data": {
      "image/png": "[encoded data removed]",
      "text/plain": [
       "<Figure size 432x288 with 1 Axes>"
      ]
     },
     "metadata": {
      "needs_background": "light"
     },
     "output_type": "display_data"
    },
    {
     "name": "stdout",
     "output_type": "stream",
     "text": [
      "Границы чистки выбросов: от:-32367750.0 до:60674250.0\n",
      "\n",
      "\n",
      "\n"
     ]
    }
   ],
   "source": [
    "data = boxplot_clear(data,'f1600')"
   ]
  },
  {
   "cell_type": "code",
   "execution_count": 46,
   "metadata": {},
   "outputs": [
    {
     "name": "stdout",
     "output_type": "stream",
     "text": [
      "___________________BEFORE CLEAR: f2100___________________\n",
      "\n",
      "\n"
     ]
    },
    {
     "data": {
      "image/png": "[encoded data removed]",
      "text/plain": [
       "<Figure size 432x288 with 1 Axes>"
      ]
     },
     "metadata": {
      "needs_background": "light"
     },
     "output_type": "display_data"
    },
    {
     "name": "stdout",
     "output_type": "stream",
     "text": [
      "___________________AFTER CLEAR: f2100________________\n",
      "\n",
      "\n"
     ]
    },
    {
     "data": {
      "image/png": "[encoded data removed]",
      "text/plain": [
       "<Figure size 432x288 with 1 Axes>"
      ]
     },
     "metadata": {
      "needs_background": "light"
     },
     "output_type": "display_data"
    },
    {
     "data": {
      "image/png": "[encoded data removed]",
      "text/plain": [
       "<Figure size 432x288 with 1 Axes>"
      ]
     },
     "metadata": {
      "needs_background": "light"
     },
     "output_type": "display_data"
    },
    {
     "name": "stdout",
     "output_type": "stream",
     "text": [
      "Границы чистки выбросов: от:-3304250.0 до:24469750.0\n",
      "\n",
      "\n",
      "\n"
     ]
    }
   ],
   "source": [
    "data = boxplot_clear(data,'f2100')"
   ]
  },
  {
   "cell_type": "code",
   "execution_count": 47,
   "metadata": {},
   "outputs": [
    {
     "name": "stdout",
     "output_type": "stream",
     "text": [
      "___________________BEFORE CLEAR: f2110___________________\n",
      "\n",
      "\n"
     ]
    },
    {
     "data": {
      "image/png": "[encoded data removed]",
      "text/plain": [
       "<Figure size 432x288 with 1 Axes>"
      ]
     },
     "metadata": {
      "needs_background": "light"
     },
     "output_type": "display_data"
    },
    {
     "name": "stdout",
     "output_type": "stream",
     "text": [
      "___________________AFTER CLEAR: f2110________________\n",
      "\n",
      "\n"
     ]
    },
    {
     "data": {
      "image/png": "[encoded data removed]",
      "text/plain": [
       "<Figure size 432x288 with 1 Axes>"
      ]
     },
     "metadata": {
      "needs_background": "light"
     },
     "output_type": "display_data"
    },
    {
     "data": {
      "image/png": "[encoded data removed]",
      "text/plain": [
       "<Figure size 432x288 with 1 Axes>"
      ]
     },
     "metadata": {
      "needs_background": "light"
     },
     "output_type": "display_data"
    },
    {
     "name": "stdout",
     "output_type": "stream",
     "text": [
      "Границы чистки выбросов: от:-63780750.0 до:129393250.0\n",
      "\n",
      "\n",
      "\n"
     ]
    }
   ],
   "source": [
    "data = boxplot_clear(data,'f2110')"
   ]
  },
  {
   "cell_type": "code",
   "execution_count": 48,
   "metadata": {},
   "outputs": [
    {
     "name": "stdout",
     "output_type": "stream",
     "text": [
      "___________________BEFORE CLEAR: f2200___________________\n",
      "\n",
      "\n"
     ]
    },
    {
     "data": {
      "image/png": "[encoded data removed]",
      "text/plain": [
       "<Figure size 432x288 with 1 Axes>"
      ]
     },
     "metadata": {
      "needs_background": "light"
     },
     "output_type": "display_data"
    },
    {
     "name": "stdout",
     "output_type": "stream",
     "text": [
      "___________________AFTER CLEAR: f2200________________\n",
      "\n",
      "\n"
     ]
    },
    {
     "data": {
      "image/png": "[encoded data removed]",
      "text/plain": [
       "<Figure size 432x288 with 1 Axes>"
      ]
     },
     "metadata": {
      "needs_background": "light"
     },
     "output_type": "display_data"
    },
    {
     "data": {
      "image/png": "[encoded data removed]",
      "text/plain": [
       "<Figure size 432x288 with 1 Axes>"
      ]
     },
     "metadata": {
      "needs_background": "light"
     },
     "output_type": "display_data"
    },
    {
     "name": "stdout",
     "output_type": "stream",
     "text": [
      "Границы чистки выбросов: от:-2104000.0 до:4560000.0\n",
      "\n",
      "\n",
      "\n"
     ]
    }
   ],
   "source": [
    "data = boxplot_clear(data,'f2200')"
   ]
  },
  {
   "cell_type": "code",
   "execution_count": 49,
   "metadata": {},
   "outputs": [
    {
     "name": "stdout",
     "output_type": "stream",
     "text": [
      "___________________BEFORE CLEAR: f2350___________________\n",
      "\n",
      "\n"
     ]
    },
    {
     "data": {
      "image/png": "[encoded data removed]",
      "text/plain": [
       "<Figure size 432x288 with 1 Axes>"
      ]
     },
     "metadata": {
      "needs_background": "light"
     },
     "output_type": "display_data"
    },
    {
     "name": "stdout",
     "output_type": "stream",
     "text": [
      "___________________AFTER CLEAR: f2350________________\n",
      "\n",
      "\n"
     ]
    },
    {
     "data": {
      "image/png": "[encoded data removed]",
      "text/plain": [
       "<Figure size 432x288 with 1 Axes>"
      ]
     },
     "metadata": {
      "needs_background": "light"
     },
     "output_type": "display_data"
    },
    {
     "data": {
      "image/png": "[encoded data removed]",
      "text/plain": [
       "<Figure size 432x288 with 1 Axes>"
      ]
     },
     "metadata": {
      "needs_background": "light"
     },
     "output_type": "display_data"
    },
    {
     "name": "stdout",
     "output_type": "stream",
     "text": [
      "Границы чистки выбросов: от:-940625.0 до:1964375.0\n",
      "\n",
      "\n",
      "\n"
     ]
    }
   ],
   "source": [
    "data = boxplot_clear(data,'f2350')"
   ]
  },
  {
   "cell_type": "code",
   "execution_count": 50,
   "metadata": {},
   "outputs": [
    {
     "name": "stdout",
     "output_type": "stream",
     "text": [
      "___________________BEFORE CLEAR: f2400___________________\n",
      "\n",
      "\n"
     ]
    },
    {
     "data": {
      "image/png": "[encoded data removed]",
      "text/plain": [
       "<Figure size 432x288 with 1 Axes>"
      ]
     },
     "metadata": {
      "needs_background": "light"
     },
     "output_type": "display_data"
    },
    {
     "name": "stdout",
     "output_type": "stream",
     "text": [
      "___________________AFTER CLEAR: f2400________________\n",
      "\n",
      "\n"
     ]
    },
    {
     "data": {
      "image/png": "[encoded data removed]",
      "text/plain": [
       "<Figure size 432x288 with 1 Axes>"
      ]
     },
     "metadata": {
      "needs_background": "light"
     },
     "output_type": "display_data"
    },
    {
     "data": {
      "image/png": "[encoded data removed]",
      "text/plain": [
       "<Figure size 432x288 with 1 Axes>"
      ]
     },
     "metadata": {
      "needs_background": "light"
     },
     "output_type": "display_data"
    },
    {
     "name": "stdout",
     "output_type": "stream",
     "text": [
      "Границы чистки выбросов: от:-1943750.0 до:3658250.0\n",
      "\n",
      "\n",
      "\n"
     ]
    }
   ],
   "source": [
    "data = boxplot_clear(data,'f2400')"
   ]
  },
  {
   "cell_type": "code",
   "execution_count": 51,
   "metadata": {},
   "outputs": [
    {
     "name": "stdout",
     "output_type": "stream",
     "text": [
      "___________________BEFORE CLEAR: f2410___________________\n",
      "\n",
      "\n"
     ]
    },
    {
     "data": {
      "image/png": "[encoded data removed]",
      "text/plain": [
       "<Figure size 432x288 with 1 Axes>"
      ]
     },
     "metadata": {
      "needs_background": "light"
     },
     "output_type": "display_data"
    },
    {
     "name": "stdout",
     "output_type": "stream",
     "text": [
      "___________________AFTER CLEAR: f2410________________\n",
      "\n",
      "\n"
     ]
    },
    {
     "data": {
      "image/png": "[encoded data removed]",
      "text/plain": [
       "<Figure size 432x288 with 1 Axes>"
      ]
     },
     "metadata": {
      "needs_background": "light"
     },
     "output_type": "display_data"
    },
    {
     "data": {
      "image/png": "[encoded data removed]",
      "text/plain": [
       "<Figure size 432x288 with 1 Axes>"
      ]
     },
     "metadata": {
      "needs_background": "light"
     },
     "output_type": "display_data"
    },
    {
     "name": "stdout",
     "output_type": "stream",
     "text": [
      "Границы чистки выбросов: от:-423000.0 до:1025000.0\n",
      "\n",
      "\n",
      "\n"
     ]
    }
   ],
   "source": [
    "data = boxplot_clear(data,'f2410')"
   ]
  },
  {
   "cell_type": "code",
   "execution_count": 52,
   "metadata": {},
   "outputs": [],
   "source": [
    "to_drop = ['f1310', 'f2340']\n",
    "data = data.drop(columns=to_drop)"
   ]
  },
  {
   "cell_type": "markdown",
   "metadata": {},
   "source": [
    "Удалил колонки 'f1310', 'f2340', выяснил что после очистки там остается только 1 значение, так что смысла их хранить не вижу."
   ]
  },
  {
   "cell_type": "markdown",
   "metadata": {},
   "source": [
    "### Создал рентабельность бизнеса и почистил выбросы."
   ]
  },
  {
   "cell_type": "code",
   "execution_count": 53,
   "metadata": {},
   "outputs": [],
   "source": [
    "data['rent'] = (data['f2200']/data['f2110'])*100"
   ]
  },
  {
   "cell_type": "code",
   "execution_count": 54,
   "metadata": {},
   "outputs": [
    {
     "name": "stdout",
     "output_type": "stream",
     "text": [
      "___________________BEFORE CLEAR: rent___________________\n",
      "\n",
      "\n"
     ]
    },
    {
     "data": {
      "image/png": "[encoded data removed]",
      "text/plain": [
       "<Figure size 432x288 with 1 Axes>"
      ]
     },
     "metadata": {
      "needs_background": "light"
     },
     "output_type": "display_data"
    },
    {
     "name": "stdout",
     "output_type": "stream",
     "text": [
      "___________________AFTER CLEAR: rent________________\n",
      "\n",
      "\n"
     ]
    },
    {
     "data": {
      "image/png": "[encoded data removed]",
      "text/plain": [
       "<Figure size 432x288 with 1 Axes>"
      ]
     },
     "metadata": {
      "needs_background": "light"
     },
     "output_type": "display_data"
    },
    {
     "data": {
      "image/png": "[encoded data removed]",
      "text/plain": [
       "<Figure size 432x288 with 1 Axes>"
      ]
     },
     "metadata": {
      "needs_background": "light"
     },
     "output_type": "display_data"
    },
    {
     "name": "stdout",
     "output_type": "stream",
     "text": [
      "Границы чистки выбросов: от:-2.8829114351557865 до:14.454914724024707\n",
      "\n",
      "\n",
      "\n"
     ]
    }
   ],
   "source": [
    "data = boxplot_clear(data,'rent')"
   ]
  },
  {
   "cell_type": "code",
   "execution_count": 55,
   "metadata": {},
   "outputs": [
    {
     "name": "stdout",
     "output_type": "stream",
     "text": [
      "<class 'pandas.core.frame.DataFrame'>\n",
      "Int64Index: 5215 entries, 18 to 17888\n",
      "Data columns (total 29 columns):\n",
      " #   Column                 Non-Null Count  Dtype  \n",
      "---  ------                 --------------  -----  \n",
      " 0   target                 5215 non-null   int64  \n",
      " 1   f1210                  5215 non-null   float64\n",
      " 2   f1230                  5215 non-null   float64\n",
      " 3   f1250                  5215 non-null   float64\n",
      " 4   f1300                  5215 non-null   float64\n",
      " 5   f1370                  5215 non-null   float64\n",
      " 6   f1520                  5215 non-null   float64\n",
      " 7   f1600                  5215 non-null   float64\n",
      " 8   f2100                  5215 non-null   float64\n",
      " 9   f2110                  5215 non-null   float64\n",
      " 10  f2200                  5215 non-null   float64\n",
      " 11  f2350                  5215 non-null   float64\n",
      " 12  f2400                  5215 non-null   float64\n",
      " 13  f2410                  5215 non-null   float64\n",
      " 14  egrpoincluded          5215 non-null   float64\n",
      " 15  oktmo_code             5215 non-null   int32  \n",
      " 16  workersrange           5215 non-null   int64  \n",
      " 17  countcoownerrosstat    5215 non-null   float64\n",
      " 18  countbranchrosstat     5215 non-null   float64\n",
      " 19  managercountincountry  5215 non-null   float64\n",
      " 20  managercountinregion   5215 non-null   float64\n",
      " 21  managerinncount        5215 non-null   float64\n",
      " 22  okved_code             5215 non-null   int64  \n",
      " 23  sign_year              5215 non-null   int64  \n",
      " 24  sign_month             5215 non-null   int32  \n",
      " 25  firstreg_year          5215 non-null   int64  \n",
      " 26  firstreg_month         5215 non-null   int32  \n",
      " 27  taxreg_year            5215 non-null   int64  \n",
      " 28  rent                   5215 non-null   float64\n",
      "dtypes: float64(20), int32(3), int64(6)\n",
      "memory usage: 1.1 MB\n"
     ]
    }
   ],
   "source": [
    "data.info()"
   ]
  },
  {
   "cell_type": "markdown",
   "metadata": {},
   "source": [
    "## Деление на обучающие и тестовые данные."
   ]
  },
  {
   "cell_type": "code",
   "execution_count": 56,
   "metadata": {},
   "outputs": [
    {
     "name": "stdout",
     "output_type": "stream",
     "text": [
      "(3911, 28) (3911,)\n",
      "(1304, 28) (1304,)\n"
     ]
    }
   ],
   "source": [
    "features = data.drop(columns=['target'])\n",
    "target =  data['target']\n",
    "\n",
    "features_train, features_test, target_train, target_test = train_test_split(features, target, test_size=0.25, random_state=666, stratify=target)\n",
    "\n",
    "print(features_train.shape, target_train.shape)\n",
    "print(features_test.shape, target_test.shape)"
   ]
  },
  {
   "cell_type": "code",
   "execution_count": 57,
   "metadata": {},
   "outputs": [],
   "source": [
    "categorical_features = ['sign_month', 'egrpoincluded', 'okved_code', 'oktmo_code']"
   ]
  },
  {
   "cell_type": "code",
   "execution_count": 58,
   "metadata": {},
   "outputs": [],
   "source": [
    "def learn_model(models, features_train, features_test, target_train, target_test, title='', categorical_feature = categorical_features):\n",
    "    \n",
    "    def predict(model, train_predict, target_train, test_predict, target_test):\n",
    "        \n",
    "        metrics = {'f1' : f1_score,\n",
    "                   'accuracy' : accuracy_score,\n",
    "                   'roc auc score' : roc_auc_score,\n",
    "                   'precision' : precision_score,\n",
    "                   'recall' : recall_score\n",
    "                  }\n",
    "        columns = ['train', 'test']\n",
    "        data = []\n",
    "        for metric in metrics.keys():\n",
    "            data.append([metrics[metric](target_train, train_predict) ,metrics[metric](target_test, test_predict)])\n",
    "\n",
    "\n",
    "        results = pd.DataFrame(data=data, index=metrics.keys(), columns=columns)\n",
    "        \n",
    "        print(results)\n",
    "        print()\n",
    "    \n",
    "    def fit_model():\n",
    "        \n",
    "\n",
    "        plot_data = {}\n",
    "        learned_model = {}\n",
    "        \n",
    "        for model in models.keys():\n",
    "            print(f'__________{model}__________')\n",
    "            model_learn = models[model][0]\n",
    "            params = models[model][1]\n",
    "            \n",
    "            start_time = time.time()\n",
    "            \n",
    "            grid = GridSearchCV(model_learn, cv=3, param_grid=params, n_jobs=-1, scoring = 'f1')\n",
    "            \n",
    "            if model == 'LightGBM':\n",
    "                grid.fit(features_train, target_train, categorical_feature=categorical_feature)\n",
    "            else:\n",
    "                grid.fit(features_train, target_train)\n",
    "                \n",
    "            end_time = time.time()\n",
    "            fit_time = end_time - start_time\n",
    "            \n",
    "            plot_data[model] = fit_time # время обучения модели\n",
    "            learned_model[model] = [grid, grid.best_params_] # сохраняем модель\n",
    "            \n",
    "            \n",
    "            \n",
    "            train_predict = grid.predict(features_train)\n",
    "            test_predict = grid.predict(features_test)\n",
    "            \n",
    "            predicted = predict(model, train_predict, target_train, test_predict, target_test)\n",
    "            \n",
    "            \n",
    "        sns.barplot(x=list(plot_data.keys()), y=list(plot_data.values()), saturation=1)    \n",
    "        plt.xlabel('Модели')\n",
    "        plt.ylabel('Время')\n",
    "        plt.title(f'Время обучения {title}')\n",
    "        plt.show()\n",
    "        \n",
    "        return learned_model\n",
    "        \n",
    "        \n",
    "    result_model = fit_model()    \n",
    "    \n",
    "    \n",
    "        \n",
    "    return result_model\n",
    "            \n"
   ]
  },
  {
   "cell_type": "code",
   "execution_count": 59,
   "metadata": {},
   "outputs": [],
   "source": [
    "models = {'Linear' : [LogisticRegression(random_state=666, n_jobs=-1), {'solver' : ['newton-cg', 'lbfgs', 'liblinear', 'sag', 'saga'], \n",
    "                                                                        'penalty':['l1', 'l2'], \n",
    "                                                                        'class_weight':['balanced', None]}],\n",
    "         'Forest' : [RandomForestClassifier(random_state=666, n_jobs=-1), {'max_depth':range(1, 10),\n",
    "                                                                            'min_samples_leaf':range(1,10),\n",
    "                                                                            'min_samples_split':range (2, 10,2)}],\n",
    "          \n",
    "          'Tree': [DecisionTreeClassifier(random_state=666), {'max_depth':range(1, 15),\n",
    "                                                              'min_samples_leaf':range(1 ,15),\n",
    "                                                              'min_samples_split':range (2, 17,2)}],\n",
    "          \n",
    "          'LightGBM' : [LGBMClassifier(random_state=666, n_jobs=-1), {'learning_rate':[0.001, 0.01, 0.1], \n",
    "                                                                     'max_depth':range(1, 15),\n",
    "                                                                     'n_estimators':range(1, 500, 25)}],\n",
    "          \n",
    "          'CatBoost' : [CatBoostClassifier(random_state=666, silent=True), {'learning_rate':[0.01, 0.1], \n",
    "                                                                            'max_depth':range(1, 10),\n",
    "                                                                            'n_estimators':range(500, 2000, 250)}],\n",
    "          'XGBClassifier' : [XGBClassifier(n_jobs=-1), {'max_depth':range(1, 10),\n",
    "                                                       'learning_rate':[0.01, 0.1],\n",
    "                                                       'n_estimators':range(50, 500, 50)}]\n",
    "         }"
   ]
  },
  {
   "cell_type": "code",
   "execution_count": 60,
   "metadata": {},
   "outputs": [
    {
     "name": "stdout",
     "output_type": "stream",
     "text": [
      "__________Linear__________\n",
      "                  train      test\n",
      "f1             0.781431  0.769978\n",
      "accuracy       0.690616  0.673313\n",
      "roc auc score  0.627065  0.607544\n",
      "precision      0.695051  0.682950\n",
      "recall         0.892327  0.882426\n",
      "\n",
      "__________Forest__________\n",
      "                  train      test\n",
      "f1             0.926509  0.869671\n",
      "accuracy       0.905651  0.835890\n",
      "roc auc score  0.888662  0.820864\n",
      "precision      0.895649  0.856115\n",
      "recall         0.959571  0.883663\n",
      "\n",
      "__________Tree__________\n",
      "                  train      test\n",
      "f1             0.906020  0.849821\n",
      "accuracy       0.879059  0.806748\n",
      "roc auc score  0.859672  0.782947\n",
      "precision      0.873898  0.819540\n",
      "recall         0.940594  0.882426\n",
      "\n",
      "__________LightGBM__________\n",
      "                  train      test\n",
      "f1             0.996301  0.887218\n",
      "accuracy       0.995398  0.861963\n",
      "roc auc score  0.993948  0.857474\n",
      "precision      0.992629  0.898477\n",
      "recall         1.000000  0.876238\n",
      "\n",
      "__________CatBoost__________\n",
      "                  train      test\n",
      "f1             0.994044  0.887087\n",
      "accuracy       0.992585  0.861196\n",
      "roc auc score  0.990769  0.855298\n",
      "precision      0.989775  0.894340\n",
      "recall         0.998350  0.879950\n",
      "\n",
      "__________XGBClassifier__________\n",
      "[21:10:05] WARNING: C:/Users/Administrator/workspace/xgboost-win64_release_1.5.1/src/learner.cc:1115: Starting in XGBoost 1.3.0, the default evaluation metric used with the objective 'binary:logistic' was changed from 'error' to 'logloss'. Explicitly set eval_metric if you'd like to restore the old behavior.\n",
      "                  train      test\n",
      "f1             0.981870  0.883261\n",
      "accuracy       0.977244  0.855061\n",
      "roc auc score  0.971894  0.845676\n",
      "precision      0.969819  0.881628\n",
      "recall         0.994224  0.884901\n",
      "\n"
     ]
    },
    {
     "data": {
      "image/png": "[encoded data removed]",
      "text/plain": [
       "<Figure size 432x288 with 1 Axes>"
      ]
     },
     "metadata": {
      "needs_background": "light"
     },
     "output_type": "display_data"
    },
    {
     "name": "stdout",
     "output_type": "stream",
     "text": [
      "Wall time: 14min 59s\n"
     ]
    }
   ],
   "source": [
    "%%time\n",
    "models = learn_model(models, features_train, features_test, target_train, target_test)"
   ]
  },
  {
   "cell_type": "markdown",
   "metadata": {},
   "source": [
    "### Catboost модель и feature importances."
   ]
  },
  {
   "cell_type": "code",
   "execution_count": 61,
   "metadata": {},
   "outputs": [],
   "source": [
    "model = CatBoostClassifier(random_state=666, silent=True, iterations=500, max_depth=8, learning_rate=0.1)\n",
    "model.fit(features_train, target_train)\n",
    "\n",
    "predictions = model.predict(features_test)"
   ]
  },
  {
   "cell_type": "code",
   "execution_count": 62,
   "metadata": {},
   "outputs": [
    {
     "name": "stdout",
     "output_type": "stream",
     "text": [
      "              precision    recall  f1-score   support\n",
      "\n",
      "           0       0.81      0.83      0.82       496\n",
      "           1       0.89      0.88      0.89       808\n",
      "\n",
      "    accuracy                           0.86      1304\n",
      "   macro avg       0.85      0.86      0.85      1304\n",
      "weighted avg       0.86      0.86      0.86      1304\n",
      "\n",
      "0.8870867124142233\n"
     ]
    }
   ],
   "source": [
    "print(classification_report(target_test, predictions))\n",
    "print(f1_score(target_test, predictions))"
   ]
  },
  {
   "cell_type": "code",
   "execution_count": 63,
   "metadata": {},
   "outputs": [
    {
     "data": {
      "image/png": "[encoded data removed]",
      "text/plain": [
       "<Figure size 432x288 with 1 Axes>"
      ]
     },
     "metadata": {
      "needs_background": "light"
     },
     "output_type": "display_data"
    }
   ],
   "source": [
    "importances = model.feature_importances_\n",
    "\n",
    "feature_importances = pd.Series(importances, index=features_train.columns).sort_values(ascending=False)\n",
    "\n",
    "fig, ax = plt.subplots()\n",
    "feature_importances.plot.bar(ax=ax)\n",
    "ax.set_title(\"Feature importances using\")\n",
    "ax.set_ylabel(\"Mean decrease in impurity\")\n",
    "fig.tight_layout()"
   ]
  },
  {
   "cell_type": "markdown",
   "metadata": {},
   "source": [
    "### Удаляем неважные признаки и заново обучаем, с повышением параметров."
   ]
  },
  {
   "cell_type": "code",
   "execution_count": 64,
   "metadata": {},
   "outputs": [
    {
     "name": "stdout",
     "output_type": "stream",
     "text": [
      "(3911, 26) (3911,)\n",
      "(1304, 26) (1304,)\n"
     ]
    }
   ],
   "source": [
    "features = data.drop(columns=['target', 'countbranchrosstat', 'sign_year'])  \n",
    "target =  data['target']\n",
    "\n",
    "features_train, features_test, target_train, target_test = train_test_split(features, target, test_size=0.25, random_state=666, stratify=target)\n",
    "\n",
    "print(features_train.shape, target_train.shape)\n",
    "print(features_test.shape, target_test.shape)"
   ]
  },
  {
   "cell_type": "code",
   "execution_count": 65,
   "metadata": {},
   "outputs": [],
   "source": [
    "models =  {'LightGBM' : [LGBMClassifier(random_state=666, n_jobs=-1), {'learning_rate':[0.001, 0.01, 0.1], \n",
    "                                                                     'max_depth':range(1, 15),\n",
    "                                                                     'n_estimators':range(500, 2000, 250)}],\n",
    "          \n",
    "          'CatBoost' : [CatBoostClassifier(random_state=666, silent=True), {'learning_rate':[0.01, 0.1], \n",
    "                                                                            'max_depth':range(1, 10),\n",
    "                                                                            'n_estimators':range(500, 2000, 250)}],\n",
    "          'XGBClassifier' : [XGBClassifier(n_jobs=-1), {'max_depth':range(1, 10),\n",
    "                                                       'learning_rate':[0.01, 0.1],\n",
    "                                                       'n_estimators':range(500, 2000, 250)}]\n",
    "         }"
   ]
  },
  {
   "cell_type": "code",
   "execution_count": 66,
   "metadata": {},
   "outputs": [
    {
     "name": "stdout",
     "output_type": "stream",
     "text": [
      "__________LightGBM__________\n",
      "                  train      test\n",
      "f1             0.996299  0.889724\n",
      "accuracy       0.995398  0.865031\n",
      "roc auc score  0.994078  0.860727\n",
      "precision      0.993033  0.901015\n",
      "recall         0.999587  0.878713\n",
      "\n",
      "__________CatBoost__________\n",
      "                  train      test\n",
      "f1             0.973775  0.882827\n",
      "accuracy       0.967016  0.855061\n",
      "roc auc score  0.960393  0.846844\n",
      "precision      0.959920  0.884472\n",
      "recall         0.988036  0.881188\n",
      "\n",
      "__________XGBClassifier__________\n",
      "[21:31:26] WARNING: C:/Users/Administrator/workspace/xgboost-win64_release_1.5.1/src/learner.cc:1115: Starting in XGBoost 1.3.0, the default evaluation metric used with the objective 'binary:logistic' was changed from 'error' to 'logloss'. Explicitly set eval_metric if you'd like to restore the old behavior.\n",
      "                  train      test\n",
      "f1             0.969795  0.882861\n",
      "accuracy       0.961902  0.854294\n",
      "roc auc score  0.954058  0.844279\n",
      "precision      0.953368  0.879607\n",
      "recall         0.986799  0.886139\n",
      "\n"
     ]
    },
    {
     "data": {
      "image/png": "[encoded data removed]",
      "text/plain": [
       "<Figure size 432x288 with 1 Axes>"
      ]
     },
     "metadata": {
      "needs_background": "light"
     },
     "output_type": "display_data"
    },
    {
     "name": "stdout",
     "output_type": "stream",
     "text": [
      "Wall time: 21min 18s\n"
     ]
    }
   ],
   "source": [
    "%%time\n",
    "models = learn_model(models, features_train, features_test, target_train, target_test)"
   ]
  },
  {
   "cell_type": "markdown",
   "metadata": {},
   "source": [
    "## Выводы.\n",
    "Выбираем модель градиентного бустинга LightGBM. Мой наилучший скор f1-меры: 0.889 <br>\n",
    "Наши параметры: 'learning_rate': 0.1, 'max_depth': 10, 'n_estimators': 500"
   ]
  },
  {
   "cell_type": "code",
   "execution_count": null,
   "metadata": {},
   "outputs": [],
   "source": []
  }
 ],
 "metadata": {
  "kernelspec": {
   "display_name": "Python 3",
   "language": "python",
   "name": "python3"
  },
  "language_info": {
   "codemirror_mode": {
    "name": "ipython",
    "version": 3
   },
   "file_extension": ".py",
   "mimetype": "text/x-python",
   "name": "python",
   "nbconvert_exporter": "python",
   "pygments_lexer": "ipython3",
   "version": "3.8.5"
  }
 },
 "nbformat": 4,
 "nbformat_minor": 4
}
