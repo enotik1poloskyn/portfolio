{
 "cells": [
  {
   "cell_type": "markdown",
   "metadata": {},
   "source": [
    "# Определение стоимости автомобилей"
   ]
  },
  {
   "cell_type": "markdown",
   "metadata": {},
   "source": [
    "Сервис по продаже автомобилей с пробегом «Не бит, не крашен» разрабатывает приложение для привлечения новых клиентов. В нём можно быстро узнать рыночную стоимость своего автомобиля. В вашем распоряжении исторические данные: технические характеристики, комплектации и цены автомобилей. Вам нужно построить модель для определения стоимости. \n",
    "\n",
    "Заказчику важны:\n",
    "\n",
    "- качество предсказания;\n",
    "- скорость предсказания;\n",
    "- время обучения."
   ]
  },
  {
   "cell_type": "code",
   "execution_count": 20,
   "metadata": {},
   "outputs": [],
   "source": [
    "import pandas as pd\n",
    "import matplotlib.pyplot  as plt\n",
    "import numpy as np\n",
    "import seaborn as sns\n",
    "import warnings\n",
    "import time\n",
    "\n",
    "\n",
    "from sklearn.metrics import mean_absolute_error, r2_score\n",
    "from sklearn.model_selection import GridSearchCV, train_test_split\n",
    "from sklearn.preprocessing import OrdinalEncoder\n",
    "\n",
    "from sklearn.linear_model import LinearRegression\n",
    "from sklearn.ensemble import RandomForestRegressor\n",
    "from lightgbm import LGBMRegressor\n",
    "from catboost import CatBoostRegressor"
   ]
  },
  {
   "cell_type": "markdown",
   "metadata": {},
   "source": [
    "## Подготовка данных"
   ]
  },
  {
   "cell_type": "code",
   "execution_count": 21,
   "metadata": {},
   "outputs": [
    {
     "name": "stdout",
     "output_type": "stream",
     "text": [
      "<class 'pandas.core.frame.DataFrame'>\n",
      "RangeIndex: 354369 entries, 0 to 354368\n",
      "Data columns (total 10 columns):\n",
      " #   Column       Non-Null Count   Dtype \n",
      "---  ------       --------------   ----- \n",
      " 0   price        354369 non-null  int64 \n",
      " 1   vehicletype  316879 non-null  object\n",
      " 2   gearbox      334536 non-null  object\n",
      " 3   power        354369 non-null  int64 \n",
      " 4   model        334664 non-null  object\n",
      " 5   kilometer    354369 non-null  int64 \n",
      " 6   fueltype     321474 non-null  object\n",
      " 7   brand        354369 non-null  object\n",
      " 8   notrepaired  283215 non-null  object\n",
      " 9   age          354369 non-null  int64 \n",
      "dtypes: int64(4), object(6)\n",
      "memory usage: 27.0+ MB\n"
     ]
    },
    {
     "data": {
      "text/html": [
       "<div>\n",
       "<style scoped>\n",
       "    .dataframe tbody tr th:only-of-type {\n",
       "        vertical-align: middle;\n",
       "    }\n",
       "\n",
       "    .dataframe tbody tr th {\n",
       "        vertical-align: top;\n",
       "    }\n",
       "\n",
       "    .dataframe thead th {\n",
       "        text-align: right;\n",
       "    }\n",
       "</style>\n",
       "<table border=\"1\" class=\"dataframe\">\n",
       "  <thead>\n",
       "    <tr style=\"text-align: right;\">\n",
       "      <th></th>\n",
       "      <th>price</th>\n",
       "      <th>vehicletype</th>\n",
       "      <th>gearbox</th>\n",
       "      <th>power</th>\n",
       "      <th>model</th>\n",
       "      <th>kilometer</th>\n",
       "      <th>fueltype</th>\n",
       "      <th>brand</th>\n",
       "      <th>notrepaired</th>\n",
       "      <th>age</th>\n",
       "    </tr>\n",
       "  </thead>\n",
       "  <tbody>\n",
       "    <tr>\n",
       "      <th>0</th>\n",
       "      <td>480</td>\n",
       "      <td>NaN</td>\n",
       "      <td>manual</td>\n",
       "      <td>0</td>\n",
       "      <td>golf</td>\n",
       "      <td>150000</td>\n",
       "      <td>petrol</td>\n",
       "      <td>volkswagen</td>\n",
       "      <td>NaN</td>\n",
       "      <td>27</td>\n",
       "    </tr>\n",
       "    <tr>\n",
       "      <th>1</th>\n",
       "      <td>18300</td>\n",
       "      <td>coupe</td>\n",
       "      <td>manual</td>\n",
       "      <td>190</td>\n",
       "      <td>NaN</td>\n",
       "      <td>125000</td>\n",
       "      <td>gasoline</td>\n",
       "      <td>audi</td>\n",
       "      <td>yes</td>\n",
       "      <td>9</td>\n",
       "    </tr>\n",
       "    <tr>\n",
       "      <th>2</th>\n",
       "      <td>9800</td>\n",
       "      <td>suv</td>\n",
       "      <td>auto</td>\n",
       "      <td>163</td>\n",
       "      <td>grand</td>\n",
       "      <td>125000</td>\n",
       "      <td>gasoline</td>\n",
       "      <td>jeep</td>\n",
       "      <td>NaN</td>\n",
       "      <td>16</td>\n",
       "    </tr>\n",
       "    <tr>\n",
       "      <th>3</th>\n",
       "      <td>1500</td>\n",
       "      <td>small</td>\n",
       "      <td>manual</td>\n",
       "      <td>75</td>\n",
       "      <td>golf</td>\n",
       "      <td>150000</td>\n",
       "      <td>petrol</td>\n",
       "      <td>volkswagen</td>\n",
       "      <td>no</td>\n",
       "      <td>19</td>\n",
       "    </tr>\n",
       "    <tr>\n",
       "      <th>4</th>\n",
       "      <td>3600</td>\n",
       "      <td>small</td>\n",
       "      <td>manual</td>\n",
       "      <td>69</td>\n",
       "      <td>fabia</td>\n",
       "      <td>90000</td>\n",
       "      <td>gasoline</td>\n",
       "      <td>skoda</td>\n",
       "      <td>no</td>\n",
       "      <td>12</td>\n",
       "    </tr>\n",
       "  </tbody>\n",
       "</table>\n",
       "</div>"
      ],
      "text/plain": [
       "   price vehicletype gearbox  power  model  kilometer  fueltype       brand  \\\n",
       "0    480         NaN  manual      0   golf     150000    petrol  volkswagen   \n",
       "1  18300       coupe  manual    190    NaN     125000  gasoline        audi   \n",
       "2   9800         suv    auto    163  grand     125000  gasoline        jeep   \n",
       "3   1500       small  manual     75   golf     150000    petrol  volkswagen   \n",
       "4   3600       small  manual     69  fabia      90000  gasoline       skoda   \n",
       "\n",
       "  notrepaired  age  \n",
       "0         NaN   27  \n",
       "1         yes    9  \n",
       "2         NaN   16  \n",
       "3          no   19  \n",
       "4          no   12  "
      ]
     },
     "execution_count": 21,
     "metadata": {},
     "output_type": "execute_result"
    }
   ],
   "source": [
    "data = pd.read_csv('autos.csv')\n",
    "data.columns = data.columns.str.lower() \n",
    "data['age'] = 2020 - data['registrationyear']\n",
    "data = data.drop(['datecrawled', 'datecreated', 'lastseen', 'registrationmonth', 'registrationyear', 'postalcode', 'numberofpictures'], axis=1)\n",
    "\n",
    "data.info()\n",
    "data.head()"
   ]
  },
  {
   "cell_type": "markdown",
   "metadata": {},
   "source": [
    "\n",
    "Удалил столбцы (даты скачивания, дата создание анкеты, дата последней активности пользователя, месяц регистрации, почтовый индекс, кол-во фотографий) эти данные никак не помогут нам при обучении."
   ]
  },
  {
   "cell_type": "code",
   "execution_count": 22,
   "metadata": {},
   "outputs": [
    {
     "name": "stdout",
     "output_type": "stream",
     "text": [
      "<class 'pandas.core.frame.DataFrame'>\n",
      "Int64Index: 245814 entries, 3 to 354367\n",
      "Data columns (total 10 columns):\n",
      " #   Column       Non-Null Count   Dtype \n",
      "---  ------       --------------   ----- \n",
      " 0   price        245814 non-null  int64 \n",
      " 1   vehicletype  245814 non-null  object\n",
      " 2   gearbox      245814 non-null  object\n",
      " 3   power        245814 non-null  int64 \n",
      " 4   model        245814 non-null  object\n",
      " 5   kilometer    245814 non-null  int64 \n",
      " 6   fueltype     245814 non-null  object\n",
      " 7   brand        245814 non-null  object\n",
      " 8   notrepaired  245814 non-null  object\n",
      " 9   age          245814 non-null  int64 \n",
      "dtypes: int64(4), object(6)\n",
      "memory usage: 20.6+ MB\n"
     ]
    }
   ],
   "source": [
    "data = data.dropna()\n",
    "data.info()"
   ]
  },
  {
   "cell_type": "markdown",
   "metadata": {},
   "source": [
    "### Аргумент по удалению пропусков\n",
    "В колонках ('vehicletype', 'gearbox', 'model', 'fueltype') пропущеных данных для каждого менее 10% и их можно удалить.<br>\n",
    "А вот ситуация с колонкой 'notrepaired' другая, там много пропущеных данных, но мы не можем их заполнить тк там есть оба класса 0(no) и 1(yes)."
   ]
  },
  {
   "cell_type": "code",
   "execution_count": 23,
   "metadata": {},
   "outputs": [
    {
     "name": "stdout",
     "output_type": "stream",
     "text": [
      "Границы выбросв от: 0 До: 25503.0\n"
     ]
    },
    {
     "data": {
      "image/png": "[encoded data removed]",
      "text/plain": [
       "<Figure size 432x288 with 1 Axes>"
      ]
     },
     "metadata": {
      "needs_background": "light"
     },
     "output_type": "display_data"
    },
    {
     "name": "stdout",
     "output_type": "stream",
     "text": [
      "Границы выбросв от: 50000.0 До: 225000.0\n"
     ]
    },
    {
     "data": {
      "image/png": "[encoded data removed]",
      "text/plain": [
       "<Figure size 432x288 with 1 Axes>"
      ]
     },
     "metadata": {
      "needs_background": "light"
     },
     "output_type": "display_data"
    },
    {
     "name": "stdout",
     "output_type": "stream",
     "text": [
      "Границы выбросв от: 0 До: 375.0\n"
     ]
    },
    {
     "data": {
      "image/png": "[encoded data removed]",
      "text/plain": [
       "<Figure size 432x288 with 1 Axes>"
      ]
     },
     "metadata": {
      "needs_background": "light"
     },
     "output_type": "display_data"
    },
    {
     "name": "stdout",
     "output_type": "stream",
     "text": [
      "Границы выбросв от: 0 До: 45.0\n"
     ]
    },
    {
     "data": {
      "image/png": "[encoded data removed]",
      "text/plain": [
       "<Figure size 432x288 with 1 Axes>"
      ]
     },
     "metadata": {
      "needs_background": "light"
     },
     "output_type": "display_data"
    }
   ],
   "source": [
    "columns_anomaly_check = ['price', 'kilometer', 'power', 'age']\n",
    "\n",
    "\n",
    "for column in columns_anomaly_check:\n",
    "    Q1 = np.quantile(data[column] ,q = 0.25)\n",
    "    Q3 = np.quantile(data[column] ,q = 0.75)\n",
    "    \n",
    "    IQR = Q3 - Q1 \n",
    "\n",
    "    first_border = Q1 - 3 * IQR\n",
    "    second_border = Q3 + 3 * IQR\n",
    "    \n",
    "    if first_border < 0:\n",
    "        first_border = 0\n",
    "    \n",
    "    print('Границы выбросв от:', first_border, 'До:', second_border)\n",
    "    plt.title(column)\n",
    "    plt.boxplot(data[column])\n",
    "    plt.show()\n",
    "\n",
    "    \n",
    "    data[column] = data[(data[column] < second_border)&(data[column] > first_border)][column]\n"
   ]
  },
  {
   "cell_type": "code",
   "execution_count": 24,
   "metadata": {},
   "outputs": [
    {
     "name": "stdout",
     "output_type": "stream",
     "text": [
      "<class 'pandas.core.frame.DataFrame'>\n",
      "Int64Index: 214798 entries, 3 to 354367\n",
      "Data columns (total 10 columns):\n",
      " #   Column       Non-Null Count   Dtype  \n",
      "---  ------       --------------   -----  \n",
      " 0   price        214798 non-null  float64\n",
      " 1   vehicletype  214798 non-null  object \n",
      " 2   gearbox      214798 non-null  object \n",
      " 3   power        214798 non-null  float64\n",
      " 4   model        214798 non-null  object \n",
      " 5   kilometer    214798 non-null  float64\n",
      " 6   fueltype     214798 non-null  object \n",
      " 7   brand        214798 non-null  object \n",
      " 8   notrepaired  214798 non-null  object \n",
      " 9   age          214798 non-null  float64\n",
      "dtypes: float64(4), object(6)\n",
      "memory usage: 18.0+ MB\n"
     ]
    }
   ],
   "source": [
    "data = data.dropna()\n",
    "data.info()"
   ]
  },
  {
   "cell_type": "code",
   "execution_count": 25,
   "metadata": {},
   "outputs": [],
   "source": [
    "target = data['price']\n",
    "features = data.drop(['price'], axis=1)"
   ]
  },
  {
   "cell_type": "code",
   "execution_count": 26,
   "metadata": {},
   "outputs": [
    {
     "data": {
      "text/html": [
       "<div>\n",
       "<style scoped>\n",
       "    .dataframe tbody tr th:only-of-type {\n",
       "        vertical-align: middle;\n",
       "    }\n",
       "\n",
       "    .dataframe tbody tr th {\n",
       "        vertical-align: top;\n",
       "    }\n",
       "\n",
       "    .dataframe thead th {\n",
       "        text-align: right;\n",
       "    }\n",
       "</style>\n",
       "<table border=\"1\" class=\"dataframe\">\n",
       "  <thead>\n",
       "    <tr style=\"text-align: right;\">\n",
       "      <th></th>\n",
       "      <th>vehicletype</th>\n",
       "      <th>gearbox</th>\n",
       "      <th>power</th>\n",
       "      <th>model</th>\n",
       "      <th>kilometer</th>\n",
       "      <th>fueltype</th>\n",
       "      <th>brand</th>\n",
       "      <th>notrepaired</th>\n",
       "      <th>age</th>\n",
       "    </tr>\n",
       "  </thead>\n",
       "  <tbody>\n",
       "    <tr>\n",
       "      <th>0</th>\n",
       "      <td>5.0</td>\n",
       "      <td>1.0</td>\n",
       "      <td>70.0</td>\n",
       "      <td>116.0</td>\n",
       "      <td>6.0</td>\n",
       "      <td>6.0</td>\n",
       "      <td>37.0</td>\n",
       "      <td>0.0</td>\n",
       "      <td>17.0</td>\n",
       "    </tr>\n",
       "    <tr>\n",
       "      <th>1</th>\n",
       "      <td>5.0</td>\n",
       "      <td>1.0</td>\n",
       "      <td>64.0</td>\n",
       "      <td>101.0</td>\n",
       "      <td>3.0</td>\n",
       "      <td>2.0</td>\n",
       "      <td>31.0</td>\n",
       "      <td>0.0</td>\n",
       "      <td>10.0</td>\n",
       "    </tr>\n",
       "    <tr>\n",
       "      <th>2</th>\n",
       "      <td>4.0</td>\n",
       "      <td>1.0</td>\n",
       "      <td>97.0</td>\n",
       "      <td>11.0</td>\n",
       "      <td>6.0</td>\n",
       "      <td>6.0</td>\n",
       "      <td>2.0</td>\n",
       "      <td>1.0</td>\n",
       "      <td>23.0</td>\n",
       "    </tr>\n",
       "    <tr>\n",
       "      <th>3</th>\n",
       "      <td>1.0</td>\n",
       "      <td>1.0</td>\n",
       "      <td>104.0</td>\n",
       "      <td>8.0</td>\n",
       "      <td>6.0</td>\n",
       "      <td>6.0</td>\n",
       "      <td>25.0</td>\n",
       "      <td>0.0</td>\n",
       "      <td>14.0</td>\n",
       "    </tr>\n",
       "    <tr>\n",
       "      <th>4</th>\n",
       "      <td>4.0</td>\n",
       "      <td>1.0</td>\n",
       "      <td>100.0</td>\n",
       "      <td>10.0</td>\n",
       "      <td>6.0</td>\n",
       "      <td>6.0</td>\n",
       "      <td>19.0</td>\n",
       "      <td>0.0</td>\n",
       "      <td>14.0</td>\n",
       "    </tr>\n",
       "    <tr>\n",
       "      <th>...</th>\n",
       "      <td>...</td>\n",
       "      <td>...</td>\n",
       "      <td>...</td>\n",
       "      <td>...</td>\n",
       "      <td>...</td>\n",
       "      <td>...</td>\n",
       "      <td>...</td>\n",
       "      <td>...</td>\n",
       "      <td>...</td>\n",
       "    </tr>\n",
       "    <tr>\n",
       "      <th>214793</th>\n",
       "      <td>4.0</td>\n",
       "      <td>1.0</td>\n",
       "      <td>135.0</td>\n",
       "      <td>116.0</td>\n",
       "      <td>6.0</td>\n",
       "      <td>2.0</td>\n",
       "      <td>37.0</td>\n",
       "      <td>0.0</td>\n",
       "      <td>8.0</td>\n",
       "    </tr>\n",
       "    <tr>\n",
       "      <th>214794</th>\n",
       "      <td>7.0</td>\n",
       "      <td>1.0</td>\n",
       "      <td>2.0</td>\n",
       "      <td>11.0</td>\n",
       "      <td>6.0</td>\n",
       "      <td>2.0</td>\n",
       "      <td>2.0</td>\n",
       "      <td>0.0</td>\n",
       "      <td>13.0</td>\n",
       "    </tr>\n",
       "    <tr>\n",
       "      <th>214795</th>\n",
       "      <td>4.0</td>\n",
       "      <td>1.0</td>\n",
       "      <td>220.0</td>\n",
       "      <td>140.0</td>\n",
       "      <td>6.0</td>\n",
       "      <td>6.0</td>\n",
       "      <td>30.0</td>\n",
       "      <td>1.0</td>\n",
       "      <td>14.0</td>\n",
       "    </tr>\n",
       "    <tr>\n",
       "      <th>214796</th>\n",
       "      <td>1.0</td>\n",
       "      <td>0.0</td>\n",
       "      <td>96.0</td>\n",
       "      <td>106.0</td>\n",
       "      <td>5.0</td>\n",
       "      <td>6.0</td>\n",
       "      <td>32.0</td>\n",
       "      <td>0.0</td>\n",
       "      <td>18.0</td>\n",
       "    </tr>\n",
       "    <tr>\n",
       "      <th>214797</th>\n",
       "      <td>0.0</td>\n",
       "      <td>1.0</td>\n",
       "      <td>97.0</td>\n",
       "      <td>223.0</td>\n",
       "      <td>6.0</td>\n",
       "      <td>2.0</td>\n",
       "      <td>37.0</td>\n",
       "      <td>0.0</td>\n",
       "      <td>22.0</td>\n",
       "    </tr>\n",
       "  </tbody>\n",
       "</table>\n",
       "<p>214798 rows × 9 columns</p>\n",
       "</div>"
      ],
      "text/plain": [
       "        vehicletype  gearbox  power  model  kilometer  fueltype  brand  \\\n",
       "0               5.0      1.0   70.0  116.0        6.0       6.0   37.0   \n",
       "1               5.0      1.0   64.0  101.0        3.0       2.0   31.0   \n",
       "2               4.0      1.0   97.0   11.0        6.0       6.0    2.0   \n",
       "3               1.0      1.0  104.0    8.0        6.0       6.0   25.0   \n",
       "4               4.0      1.0  100.0   10.0        6.0       6.0   19.0   \n",
       "...             ...      ...    ...    ...        ...       ...    ...   \n",
       "214793          4.0      1.0  135.0  116.0        6.0       2.0   37.0   \n",
       "214794          7.0      1.0    2.0   11.0        6.0       2.0    2.0   \n",
       "214795          4.0      1.0  220.0  140.0        6.0       6.0   30.0   \n",
       "214796          1.0      0.0   96.0  106.0        5.0       6.0   32.0   \n",
       "214797          0.0      1.0   97.0  223.0        6.0       2.0   37.0   \n",
       "\n",
       "        notrepaired   age  \n",
       "0               0.0  17.0  \n",
       "1               0.0  10.0  \n",
       "2               1.0  23.0  \n",
       "3               0.0  14.0  \n",
       "4               0.0  14.0  \n",
       "...             ...   ...  \n",
       "214793          0.0   8.0  \n",
       "214794          0.0  13.0  \n",
       "214795          1.0  14.0  \n",
       "214796          0.0  18.0  \n",
       "214797          0.0  22.0  \n",
       "\n",
       "[214798 rows x 9 columns]"
      ]
     },
     "execution_count": 26,
     "metadata": {},
     "output_type": "execute_result"
    }
   ],
   "source": [
    "encoder = OrdinalEncoder()\n",
    "encoder.fit(features)\n",
    "features = pd.DataFrame(encoder.transform(features), columns=features.columns)\n",
    "features"
   ]
  },
  {
   "cell_type": "markdown",
   "metadata": {},
   "source": [
    "Закодировал данные методом OrdinalEncoder."
   ]
  },
  {
   "cell_type": "markdown",
   "metadata": {},
   "source": [
    "## Обучение моделей"
   ]
  },
  {
   "cell_type": "code",
   "execution_count": 27,
   "metadata": {},
   "outputs": [],
   "source": [
    "def make_features(features, target):\n",
    "    features = features\n",
    "    target =  target\n",
    "\n",
    "    features_train, features_test, target_train, target_test = train_test_split(\n",
    "                                        features, target, test_size=0.25, random_state=666)\n",
    "    \n",
    "    \n",
    "    \n",
    "    return features_train, features_test, target_train, target_test\n",
    "\n",
    "\n",
    "def learn_model(models, features_train, features_test, target_train, target_test, title=''):\n",
    "    \n",
    "    def predict(model, train_predict, target_train, test_predict, target_test):\n",
    "        \n",
    "        metrics = {'MAE': mean_absolute_error,\n",
    "                   'r2' : r2_score\n",
    "                  }\n",
    "        columns = ['train', 'test']\n",
    "        data = []\n",
    "        for metric in metrics.keys():\n",
    "            data.append([metrics[metric](target_train, train_predict) ,metrics[metric](target_test, test_predict)])\n",
    "\n",
    "\n",
    "        results = pd.DataFrame(data=data, index=metrics.keys(), columns=columns)\n",
    "        \n",
    "        print(results)\n",
    "        print()\n",
    "    \n",
    "    def fit_model():\n",
    "        \n",
    "\n",
    "        plot_data = {}\n",
    "        learned_model = {}\n",
    "        \n",
    "        for model in models.keys():\n",
    "            print(f'__________{model}__________')\n",
    "            model_learn = models[model][0]\n",
    "            params = models[model][1]\n",
    "            \n",
    "            start_time = time.time()\n",
    "            \n",
    "            grid = GridSearchCV(model_learn, cv=5, param_grid=params, n_jobs=-1)\n",
    "            grid.fit(features_train, target_train)\n",
    "            end_time = time.time()\n",
    "            fit_time = end_time - start_time\n",
    "            \n",
    "            plot_data[model] = fit_time # время обучения модели\n",
    "            learned_model[model] = [grid, grid.best_params_] # сохраняем модель\n",
    "            \n",
    "            \n",
    "            \n",
    "            train_predict = grid.predict(features_train)\n",
    "            test_predict = grid.predict(features_test)\n",
    "            \n",
    "            predicted = predict(model, train_predict, target_train, test_predict, target_test)\n",
    "            \n",
    "            \n",
    "        sns.barplot(x=list(plot_data.keys()), y=list(plot_data.values()), saturation=1)    \n",
    "        plt.xlabel('Модели')\n",
    "        plt.ylabel('Время')\n",
    "        plt.title(f'Время обучения {title}')\n",
    "        plt.show()\n",
    "        \n",
    "        return learned_model\n",
    "        \n",
    "        \n",
    "    result_model = fit_model()    \n",
    "    \n",
    "    \n",
    "        \n",
    "    return result_model\n",
    "            \n"
   ]
  },
  {
   "cell_type": "code",
   "execution_count": 28,
   "metadata": {},
   "outputs": [
    {
     "name": "stdout",
     "output_type": "stream",
     "text": [
      "(161098, 9) (161098,)\n",
      "(53700, 9) (53700,)\n"
     ]
    }
   ],
   "source": [
    "features_train, features_test, target_train, target_test = make_features(features, target)\n",
    "\n",
    "print(features_train.shape, target_train.shape)\n",
    "print(features_test.shape, target_test.shape)"
   ]
  },
  {
   "cell_type": "code",
   "execution_count": 29,
   "metadata": {},
   "outputs": [],
   "source": [
    "models = {'Linear' : [LinearRegression(n_jobs=-1), {}],\n",
    "          \n",
    "          'Forest' : [RandomForestRegressor(n_jobs=-1), {'max_depth':range(1, 10, 4),\n",
    "                                                         'min_samples_leaf':range(1, 7, 3),\n",
    "                                                         'n_estimators':range(10, 110, 35)}],\n",
    "          'LightGBM' : [LGBMRegressor(n_jobs=-1), {'learning_rate':[0.001, 0.01, 0.1], \n",
    "                                                   'max_depth':range(1, 15, 1),\n",
    "                                                   'n_estimators':range(1, 101, 25)}],\n",
    "          \n",
    "          'CatBoost' : [CatBoostRegressor(silent=True, iterations=40), {'learning_rate':[0.001, 0.01, 0.1], \n",
    "                                                                          'depth':range(1, 15, 1)}]\n",
    "         }"
   ]
  },
  {
   "cell_type": "code",
   "execution_count": 30,
   "metadata": {},
   "outputs": [
    {
     "name": "stdout",
     "output_type": "stream",
     "text": [
      "__________Linear__________\n",
      "           train         test\n",
      "MAE  1923.284523  1928.013241\n",
      "r2      0.647336     0.645192\n",
      "\n",
      "__________Forest__________\n",
      "           train         test\n",
      "MAE  1181.694882  1212.773541\n",
      "r2      0.843327     0.832607\n",
      "\n",
      "__________LightGBM__________\n",
      "           train         test\n",
      "MAE  1029.374199  1043.025242\n",
      "r2      0.875513     0.871723\n",
      "\n",
      "__________CatBoost__________\n",
      "           train         test\n",
      "MAE  1018.000922  1048.094509\n",
      "r2      0.880698     0.871581\n",
      "\n"
     ]
    },
    {
     "data": {
      "image/png": "[encoded data removed]",
      "text/plain": [
       "<Figure size 432x288 with 1 Axes>"
      ]
     },
     "metadata": {
      "needs_background": "light"
     },
     "output_type": "display_data"
    },
    {
     "name": "stdout",
     "output_type": "stream",
     "text": [
      "Wall time: 5min 13s\n"
     ]
    }
   ],
   "source": [
    "%%time\n",
    "models_rougher = learn_model(models, features_train, features_test, target_train, target_test)"
   ]
  },
  {
   "cell_type": "markdown",
   "metadata": {},
   "source": [
    "## Вывод\n",
    "Модель градиентного бустинга LightGBM лучше справляется со своей задачей.\n",
    "1. У нее быстрая скорость обучения по сравнению с CatBoost.\n",
    "2. Высокая скорость предсказания.  \n",
    "3. Качество предсказаний.\n",
    "\n",
    "Так в свою очередь величина ошибка простой линейной регрессии нивелирует ее скорость обучения и предсказания."
   ]
  },
  {
   "cell_type": "markdown",
   "metadata": {},
   "source": [
    "## Чек-лист проверки"
   ]
  },
  {
   "cell_type": "markdown",
   "metadata": {},
   "source": [
    "Поставьте 'x' в выполненных пунктах. Далее нажмите Shift+Enter."
   ]
  },
  {
   "cell_type": "markdown",
   "metadata": {},
   "source": [
    "- [x]  Jupyter Notebook открыт\n",
    "- [x]  Весь код выполняется без ошибок\n",
    "- [x]  Ячейки с кодом расположены в порядке исполнения\n",
    "- [x]  Выполнена загрузка и подготовка данных\n",
    "- [x]  Выполнено обучение моделей\n",
    "- [x]  Есть анализ скорости работы и качества моделей"
   ]
  },
  {
   "cell_type": "code",
   "execution_count": null,
   "metadata": {},
   "outputs": [],
   "source": []
  }
 ],
 "metadata": {
  "kernelspec": {
   "display_name": "Python 3",
   "language": "python",
   "name": "python3"
  },
  "language_info": {
   "codemirror_mode": {
    "name": "ipython",
    "version": 3
   },
   "file_extension": ".py",
   "mimetype": "text/x-python",
   "name": "python",
   "nbconvert_exporter": "python",
   "pygments_lexer": "ipython3",
   "version": "3.8.5"
  },
  "toc": {
   "base_numbering": 1,
   "nav_menu": {},
   "number_sections": true,
   "sideBar": true,
   "skip_h1_title": true,
   "title_cell": "Table of Contents",
   "title_sidebar": "Contents",
   "toc_cell": false,
   "toc_position": {},
   "toc_section_display": true,
   "toc_window_display": false
  }
 },
 "nbformat": 4,
 "nbformat_minor": 2
}
